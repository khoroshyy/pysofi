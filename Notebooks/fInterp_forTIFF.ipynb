{
 "cells": [
  {
   "cell_type": "markdown",
   "metadata": {},
   "source": [
    "#### 1. Load the video (.tif)\n",
    "user-defined variables: mvlength, crop-out images, the number of pixels interpolated between two original pixels."
   ]
  },
  {
   "cell_type": "code",
   "execution_count": 1,
   "metadata": {
    "collapsed": true
   },
   "outputs": [],
   "source": [
    "import numpy as np\n",
    "import imageio\n",
    "from numpy.fft import (fftshift, ifftshift, fftn, ifftn, rfftn, irfftn, fft, ifft)"
   ]
  },
  {
   "cell_type": "code",
   "execution_count": 2,
   "metadata": {
    "collapsed": true
   },
   "outputs": [],
   "source": [
    "# user-defined variables: mvlength, crop-out images, order\n",
    "\n",
    "# fpath:\n",
    "#     [string] the directory of the input file .\n",
    "# fname:\n",
    "#     [string] file name of the input file. It has to be a TIFF movie.\n",
    "filepath = 'fIntep_forTIFF'\n",
    "filename = 'Demo.tif'\n",
    "\n",
    "# load the image \n",
    "im = imageio.imread(filepath + '/' + filename)\n",
    "imarray = np.double(np.array(im))\n",
    "\n",
    "# get dimensions and number of frames\n",
    "xdim, ydim = imarray.shape\n",
    "xrange, yrange = 2 * xdim, 2 * ydim    # define the ft spectrum span\n",
    "#im.load()\n",
    "#n_frames = im.n_frames"
   ]
  },
  {
   "cell_type": "code",
   "execution_count": 149,
   "metadata": {},
   "outputs": [],
   "source": [
    "from PIL import Image\n",
    "im = Image.open('Demo_InterpNum2.tif')\n",
    "imarray = np.array(im)"
   ]
  },
  {
   "cell_type": "code",
   "execution_count": 155,
   "metadata": {},
   "outputs": [],
   "source": [
    "im.seek(20)"
   ]
  },
  {
   "cell_type": "code",
   "execution_count": 157,
   "metadata": {},
   "outputs": [],
   "source": [
    "imarray=np.array(im)"
   ]
  },
  {
   "cell_type": "code",
   "execution_count": 160,
   "metadata": {},
   "outputs": [
    {
     "data": {
      "text/plain": [
       "<matplotlib.image.AxesImage at 0x11663c978>"
      ]
     },
     "execution_count": 160,
     "metadata": {},
     "output_type": "execute_result"
    },
    {
     "data": {
      "image/png": "[encoded data removed]",
      "text/plain": [
       "<Figure size 432x288 with 1 Axes>"
      ]
     },
     "metadata": {},
     "output_type": "display_data"
    }
   ],
   "source": [
    "plt.imshow(imarray)"
   ]
  },
  {
   "cell_type": "code",
   "execution_count": 159,
   "metadata": {},
   "outputs": [
    {
     "data": {
      "text/plain": [
       "26"
      ]
     },
     "execution_count": 159,
     "metadata": {},
     "output_type": "execute_result"
    }
   ],
   "source": [
    "imarray[92,86]"
   ]
  },
  {
   "cell_type": "markdown",
   "metadata": {},
   "source": [
    "#### 2. Define FT and IFT matrices.\n",
    "Mirror extension of each frame was performed prior to Fourier interpolation to avoid ringing artifacts. Fourier interpolation was implemented with transformation matrix operation, where the Fourier transformation matrix was constructed with the original matrix size without interpolation grids, and the inverse Fourier transformation matrix \n",
    "encodes the extra interpolation position coordinates. \n",
    "\n",
    "This way we create a mathematical equivalence of zero-padding fourier interpolation, but avoid actual zero-padding in the Fourier space in order to reduce the physical memory occupation for the operation. The resulting TIFF file can be applied for SOFI processing to produce fSOFI results."
   ]
  },
  {
   "cell_type": "code",
   "execution_count": 21,
   "metadata": {
    "collapsed": true,
    "scrolled": false
   },
   "outputs": [],
   "source": [
    "# Set up base vectors.\n",
    "#F = fftshift(fft(ifftshift(f))) # Fourier transform\n",
    "#f = fftshift(ifft(ifftshift(F))) # inverse Fourier transform\n",
    "\n",
    "def base_vect_generator2D(xrange, yrange):\n",
    "    bx, by = np.zeros(xrange), np.zeros(yrange)\n",
    "    bx[1], by[1] = 1, 1\n",
    "    bx, by = np.fft.fft(bx), np.fft.fft(by)\n",
    "    #bx, by = fftshift(fft(ifftshift(bx))), fftshift(fft(ifftshift(by)))\n",
    "    return bx, by"
   ]
  },
  {
   "cell_type": "code",
   "execution_count": 22,
   "metadata": {},
   "outputs": [
    {
     "name": "stdout",
     "output_type": "stream",
     "text": [
      "(-0.4283617315955823+0.9036073411080912j) (0.770513242775789-0.63742398974869j) (200,) (440,)\n"
     ]
    }
   ],
   "source": [
    "bx, by = base_vect_generator2D(xrange, yrange)\n",
    "print(by[299], bx[22], bx.shape, by.shape)"
   ]
  },
  {
   "cell_type": "code",
   "execution_count": 8,
   "metadata": {
    "collapsed": true
   },
   "outputs": [],
   "source": [
    "# Define Fourier transform metrix.\n",
    "def calc_ft_matrix(base, spectrum_range):\n",
    "    power_matrix = np.ones((spectrum_range, spectrum_range))\n",
    "    power_matrix = np.arange(spectrum_range).reshape(spectrum_range, 1) * power_matrix\n",
    "    ft_matrix = np.power(base, power_matrix)\n",
    "    return ft_matrix\n",
    "    \n",
    "def ft_matrix2D(xrange, yrange):\n",
    "    #xrange, yrange = 2 * xdim, 2 * ydim\n",
    "    bx, by = base_vect_generator2D(xrange, yrange)\n",
    "    \n",
    "    # Fx\n",
    "#     xPowerMatrix = np.ones((xrange, xrange))\n",
    "#     xPowerMatrix = np.arange(xrange).reshape(xrange, 1) * xPowerMatrix\n",
    "#     fx = np.power(bx, xPowerMatrix)\n",
    "    fx = calc_ft_matrix(bx, xrange)\n",
    "\n",
    "    # Fy\n",
    "#     yPowerMatrix = np.ones((yrange, yrange))\n",
    "#     yPowerMatrix = np.arange(yrange).reshape(yrange, 1) * yPowerMatrix\n",
    "#     fy = np.power(by, yPowerMatrix).T\n",
    "    fy = calc_ft_matrix(by, yrange).T\n",
    "    return fx, fy"
   ]
  },
  {
   "cell_type": "code",
   "execution_count": 30,
   "metadata": {
    "scrolled": true
   },
   "outputs": [
    {
     "name": "stdout",
     "output_type": "stream",
     "text": [
      "(0.9980267284282716-0.0627905195293134j)\n"
     ]
    }
   ],
   "source": [
    "# example:\n",
    "fx, fy = ft_matrix2D(xrange, yrange)\n",
    "print(fx[1][2])"
   ]
  },
  {
   "cell_type": "code",
   "execution_count": 34,
   "metadata": {
    "collapsed": true
   },
   "outputs": [],
   "source": [
    "# Define inverse Fourier transform metrix.\n",
    "def calc_ift_matrix(base, spectrum_range, interp_num):\n",
    "    conj_base = np.reshape(np.conj(base), (1, spectrum_range))\n",
    "    ift = np.matmul(np.ones(((spectrum_range - 1) * interp_num + 1, 1)),conj_base)\n",
    "    iftp = np.arange(0, spectrum_range - 1 + 1e-10, 1/interp_num)\n",
    "    iftp = np.matmul(iftp.reshape(-1, 1), np.ones((1, spectrum_range)))\n",
    "    ift = np.power(ift, iftp) / spectrum_range\n",
    "    return ift\n",
    "    \n",
    "def ift_matrix2D(xrange, yrange, interp_num):\n",
    "    '''\n",
    "    xrange: int, 2 times the dimension x of a frame\n",
    "    yrange: int, 2 times the dimension y of a frame\n",
    "    interp_num: int, the number of times the resolution enhanced, \n",
    "        e.g. when interp_num = 2, d' = d / 2, the resolution if two times the original one.\n",
    "    '''\n",
    "    bx, by = base_vect_generator2D(xrange, yrange)\n",
    "    \n",
    "    # ifx\n",
    "#     conj_bx = np.reshape(np.conj(bx), (1,xrange))\n",
    "#     ifx = np.dot(np.ones(((xrange - 1) * interp_num + 1,1)),conj_bx)\n",
    "#     ifxp = np.arange(0, xrange-1+1/interp_num, 1/interp_num)\n",
    "#     ifxp = np.dot(ifxp.reshape(-1, 1), np.ones((1, xrange)))\n",
    "#     ifx = np.power(ifx,ifxp)/xrange\n",
    "    ifx = calc_ift_matrix(bx, xrange, interp_num)\n",
    "\n",
    "    # ify\n",
    "#     conj_by = np.reshape(np.conj(by), (1, yrange))\n",
    "#     ify = np.dot(np.ones(((yrange - 1) * interp_num + 1,1)),conj_by)\n",
    "#     ifyp = np.arange(0, yrange-1+1/interp_num, 1/interp_num)\n",
    "#     ifyp = np.dot(ifyp.reshape(-1, 1), np.ones((1, yrange)))\n",
    "#     ify = np.power(ify,ifyp).T/yrange\n",
    "    ify = calc_ift_matrix(by, yrange, interp_num).T\n",
    "    \n",
    "    return ifx, ify"
   ]
  },
  {
   "cell_type": "code",
   "execution_count": 38,
   "metadata": {},
   "outputs": [
    {
     "data": {
      "text/plain": [
       "(0.00493844170297569+0.0007821723252011548j)"
      ]
     },
     "execution_count": 38,
     "metadata": {},
     "output_type": "execute_result"
    }
   ],
   "source": [
    "# example\n",
    "interp_num = 2\n",
    "ifx, ify = ift_matrix2D(xrange, yrange, interp_num)\n",
    "ifx[10][1]"
   ]
  },
  {
   "cell_type": "markdown",
   "metadata": {},
   "source": [
    "#### 3. Carry out Fourier interpolation on each frame."
   ]
  },
  {
   "cell_type": "code",
   "execution_count": 42,
   "metadata": {
    "collapsed": true
   },
   "outputs": [],
   "source": [
    "def interpolate_image(im, fx, fy, ifx, ify, xdim, ydim, interp_num):\n",
    "    # [im,fliplr(im);flipud(im),rot90(im,2)] is mirror-extension of the image A to create the natural peoriocity in the resulting image to avoid ringing artifacts after fourier interpolation.\n",
    "    ext_im = np.append(np.append(im, np.fliplr(im), axis=1), \n",
    "                       np.append(np.flipud(im), np.rot90(im, 2), axis=1), axis=0)\n",
    "\n",
    "    # Fourier transform\n",
    "    fall = np.matmul(np.matmul(fx, ext_im), fy)     # fall=fx@ext_im@fy for Python 3.5 or newer versions\n",
    "\n",
    "    # Inverse Fourier transform\n",
    "    ifall = np.absolute(np.dot(np.dot(ifx, fall),ify))\n",
    "\n",
    "    # Take the region corresponding to the FOV of the original image\n",
    "    xdim_new = (xdim - 1) * interp_num + 1\n",
    "    ydim_new = (ydim - 1) * interp_num + 1\n",
    "    interp_im = ifall[:xdim_new, :ydim_new]\n",
    "    \n",
    "    return interp_im\n"
   ]
  },
  {
   "cell_type": "code",
   "execution_count": 122,
   "metadata": {
    "collapsed": true
   },
   "outputs": [],
   "source": [
    "def fourier_interp_tiffimage(im, interp_num_lst):\n",
    "    # get dimensions and number of frames\n",
    "    xdim, ydim = im.shape\n",
    "    xrange, yrange = 2 * xdim, 2 * ydim    # define the ft spectrum span\n",
    "    fx, fy = ft_matrix2D(xrange, yrange)\n",
    "    interp_im_lst = []\n",
    "    for interp_num in interp_num_lst:\n",
    "        ifx, ify = ift_matrix2D(xrange, yrange, interp_num)\n",
    "        interp_im = interpolate_image(im, fx, fy, ifx, ify, xdim, ydim, interp_num)       \n",
    "        interp_im_lst.append(np.int_(np.around(interp_im)))\n",
    "            \n",
    "    return interp_im_lst"
   ]
  },
  {
   "cell_type": "code",
   "execution_count": 124,
   "metadata": {},
   "outputs": [],
   "source": [
    "finalinterp_im_lst = fourier_interp_tiffimage(im, interp_num_lst)"
   ]
  },
  {
   "cell_type": "code",
   "execution_count": 107,
   "metadata": {
    "scrolled": true
   },
   "outputs": [
    {
     "name": "stdout",
     "output_type": "stream",
     "text": [
      "1\n",
      "2\n"
     ]
    }
   ],
   "source": [
    "# example\n",
    "filepath = 'fIntep_forTIFF'\n",
    "filename = 'Demo.tif'\n",
    "\n",
    "# load the image \n",
    "im = imageio.imread(filepath + '/' + filename)\n",
    "im = np.float16(np.array(im))\n",
    "interp_num_lst = [2, 3]\n",
    "finalinterp_im_lst = fourier_interp_tiffimage(im, interp_num_lst, save_option = False)"
   ]
  },
  {
   "cell_type": "code",
   "execution_count": 99,
   "metadata": {},
   "outputs": [
    {
     "data": {
      "text/plain": [
       "dtype('float16')"
      ]
     },
     "execution_count": 99,
     "metadata": {},
     "output_type": "execute_result"
    }
   ],
   "source": [
    "im.dtype"
   ]
  },
  {
   "cell_type": "code",
   "execution_count": 118,
   "metadata": {},
   "outputs": [
    {
     "data": {
      "text/plain": [
       "(298, 658)"
      ]
     },
     "execution_count": 118,
     "metadata": {},
     "output_type": "execute_result"
    }
   ],
   "source": [
    "np.shape(finalinterp_im_lst[1])"
   ]
  },
  {
   "cell_type": "code",
   "execution_count": 138,
   "metadata": {
    "collapsed": true
   },
   "outputs": [],
   "source": [
    "def fourier_interp_tiffstack(filepath, filename, interp_num_lst, mvlength = None, save_option = True, return_option = False):\n",
    "\n",
    "    imstack = imageio.mimread(filepath + '/' + filename + '.tif')\n",
    "    xdim, ydim = np.shape(imstack[0])\n",
    "    xrange, yrange = 2 * xdim, 2 * ydim\n",
    "    fx, fy = ft_matrix2D(xrange, yrange)\n",
    "    interp_imstack_lst = []\n",
    "    \n",
    "    # if user did not select the video length, process on the whole video\n",
    "    if mvlength == None:\n",
    "        mvlength = len(imstack)\n",
    "        \n",
    "    for interp_num in interp_num_lst:\n",
    "        ifx, ify = ift_matrix2D(xrange, yrange, interp_num)\n",
    "        interp_imstack = []\n",
    "        frame_num = 0\n",
    "        for im in imstack:\n",
    "            frame_num = frame_num + 1\n",
    "            interp_im = interpolate_image(im, fx, fy, ifx, ify, xdim, ydim, interp_num)\n",
    "            interp_imstack.append(interp_im)\n",
    "            \n",
    "            if frame_num >= mvlength:\n",
    "                break\n",
    "            \n",
    "        if save_option == True:\n",
    "            #imageio.mimwrite(filename + '_InterpNum' + str(interp_num) + '.tif', np.int16(interp_imstack))\n",
    "            imageio.mimwrite(filename + '_InterpNum' + str(interp_num) + '.tif', np.int16(np.around(interp_imstack)))\n",
    "            \n",
    "        interp_imstack_lst.append(np.int_(np.around(interp_imstack)))  \n",
    "    \n",
    "    if return_option == True:\n",
    "        return interp_imstack_lst\n",
    "            "
   ]
  },
  {
   "cell_type": "code",
   "execution_count": 135,
   "metadata": {
    "collapsed": true
   },
   "outputs": [],
   "source": [
    "def fourier_interp_tiffstack2(filepath, filename, interp_num_lst, mvlength = None, save_option = True, return_option = False):\n",
    "\n",
    "    imstack = imageio.mimread(filepath + '/' + filename + '.tif')\n",
    "    xdim, ydim = np.shape(imstack[0])\n",
    "    xrange, yrange = 2 * xdim, 2 * ydim\n",
    "    fx, fy = ft_matrix2D(xrange, yrange)\n",
    "    interp_imstack_lst = []\n",
    "    \n",
    "    # if user did not select the video length, process on the whole video\n",
    "    if mvlength == None:\n",
    "        mvlength = len(imstack)\n",
    "        \n",
    "    for interp_num in interp_num_lst:\n",
    "        ifx, ify = ift_matrix2D(xrange, yrange, interp_num)\n",
    "        interp_imstack = []\n",
    "        frame_num = 0\n",
    "        for im in imstack:\n",
    "            frame_num = frame_num + 1\n",
    "            interp_im = interpolate_image(im, fx, fy, ifx, ify, xdim, ydim, interp_num)\n",
    "            interp_imstack.append(interp_im)\n",
    "            \n",
    "            if frame_num >= mvlength:\n",
    "                break\n",
    "            \n",
    "        if save_option == True:\n",
    "            #imageio.mimwrite(filename + '_InterpNum' + str(interp_num) + '.tif', np.int16(interp_imstack))\n",
    "            imageio.mimwrite(filename + '_InterpNum' + str(interp_num) + '.tif', np.int16(np.around(interp_imstack)))\n",
    "            \n",
    "        interp_imstack_lst.append(np.int_(np.around(interp_imstack)))  \n",
    "    \n",
    "    if return_option == True:\n",
    "        return interp_imstack_lst"
   ]
  },
  {
   "cell_type": "code",
   "execution_count": 137,
   "metadata": {},
   "outputs": [],
   "source": [
    "# example\n",
    "filepath = 'fIntep_forTIFF'\n",
    "filename = 'Demo'\n",
    "\n",
    "fourier_interp_tiffstack2(filepath, filename, [2,3], return_option = False)"
   ]
  },
  {
   "cell_type": "code",
   "execution_count": 139,
   "metadata": {},
   "outputs": [],
   "source": [
    "t=fourier_interp_tiffstack(filepath, filename, [2,3], return_option = True,save_option=False)"
   ]
  },
  {
   "cell_type": "code",
   "execution_count": 162,
   "metadata": {},
   "outputs": [
    {
     "data": {
      "text/plain": [
       "(1, 298, 658)"
      ]
     },
     "execution_count": 162,
     "metadata": {},
     "output_type": "execute_result"
    }
   ],
   "source": [
    "import tifffile as tiff\n",
    "a = tiff.imread('Demo_InterpNum3.tif')\n",
    "a.shape"
   ]
  },
  {
   "cell_type": "code",
   "execution_count": 140,
   "metadata": {
    "collapsed": true
   },
   "outputs": [],
   "source": [
    "w = imageio.get_writer('test.tif')\n",
    "w.append_data(t[1][0])\n",
    "w.append_data(t[1][1])\n",
    "w.append_data(t[1][2])\n",
    "w.close()"
   ]
  },
  {
   "cell_type": "code",
   "execution_count": 125,
   "metadata": {
    "scrolled": true
   },
   "outputs": [
    {
     "data": {
      "text/plain": [
       "(298, 658)"
      ]
     },
     "execution_count": 125,
     "metadata": {},
     "output_type": "execute_result"
    }
   ],
   "source": [
    "np.shape(t[1][0])"
   ]
  },
  {
   "cell_type": "code",
   "execution_count": 78,
   "metadata": {},
   "outputs": [
    {
     "data": {
      "text/plain": [
       "3"
      ]
     },
     "execution_count": 78,
     "metadata": {},
     "output_type": "execute_result"
    }
   ],
   "source": [
    "np.int(np.around(2.55))"
   ]
  },
  {
   "cell_type": "code",
   "execution_count": 49,
   "metadata": {
    "collapsed": true
   },
   "outputs": [],
   "source": [
    "filepath = 'fIntep_forTIFF'\n",
    "filename = 'Demo'\n",
    "\n",
    "# load the image \n",
    "im = imageio.imread(filepath + '/' + filename + '.tif')"
   ]
  },
  {
   "cell_type": "code",
   "execution_count": 60,
   "metadata": {},
   "outputs": [
    {
     "data": {
      "text/plain": [
       "<matplotlib.image.AxesImage at 0x1073e0470>"
      ]
     },
     "execution_count": 60,
     "metadata": {},
     "output_type": "execute_result"
    },
    {
     "data": {
      "image/png": "[encoded data removed]",
      "text/plain": [
       "<Figure size 1440x720 with 1 Axes>"
      ]
     },
     "metadata": {},
     "output_type": "display_data"
    }
   ],
   "source": [
    "%matplotlib inline\n",
    "import matplotlib.pyplot as plt\n",
    "plt.figure(figsize=(20,10))\n",
    "plt.imshow(t[1][0])"
   ]
  },
  {
   "cell_type": "code",
   "execution_count": 59,
   "metadata": {},
   "outputs": [
    {
     "data": {
      "text/plain": [
       "<matplotlib.image.AxesImage at 0x10776ab00>"
      ]
     },
     "execution_count": 59,
     "metadata": {},
     "output_type": "execute_result"
    },
    {
     "data": {
      "image/png": "[encoded data removed]",
      "text/plain": [
       "<Figure size 1440x720 with 1 Axes>"
      ]
     },
     "metadata": {},
     "output_type": "display_data"
    }
   ],
   "source": [
    "plt.figure(figsize=(20,10))\n",
    "plt.imshow(im)"
   ]
  },
  {
   "cell_type": "code",
   "execution_count": 58,
   "metadata": {},
   "outputs": [
    {
     "data": {
      "text/plain": [
       "0"
      ]
     },
     "execution_count": 58,
     "metadata": {},
     "output_type": "execute_result"
    }
   ],
   "source": [
    "t[0][20][160,120]"
   ]
  },
  {
   "cell_type": "code",
   "execution_count": null,
   "metadata": {
    "collapsed": true
   },
   "outputs": [],
   "source": []
  }
 ],
 "metadata": {
  "kernelspec": {
   "display_name": "Python 3",
   "language": "python",
   "name": "python3"
  },
  "language_info": {
   "codemirror_mode": {
    "name": "ipython",
    "version": 3
   },
   "file_extension": ".py",
   "mimetype": "text/x-python",
   "name": "python",
   "nbconvert_exporter": "python",
   "pygments_lexer": "ipython3",
   "version": "3.6.8"
  }
 },
 "nbformat": 4,
 "nbformat_minor": 2
}
