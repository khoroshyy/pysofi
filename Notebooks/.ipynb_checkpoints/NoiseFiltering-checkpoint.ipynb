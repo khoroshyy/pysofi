{
 "cells": [
  {
   "cell_type": "code",
   "execution_count": 2,
   "metadata": {},
   "outputs": [],
   "source": [
    "import sys\n",
    "sys.path.append('..')\n",
    "import numpy as np\n",
    "import data\n",
    "from functions import (filtering, masks)"
   ]
  },
  {
   "cell_type": "code",
   "execution_count": 5,
   "metadata": {},
   "outputs": [],
   "source": [
    "# load 10 videos into dictionary dset, keys are filenames, values are data object - for Demo\n",
    "filenum = 10\n",
    "filepath = '../SampleData'\n",
    "filenames = ['Block' + str(i+1) + '.tif' for i in range(filenum)]\n",
    "dset = {}\n",
    "\n",
    "for filename in filenames:\n",
    "    dset[filename] = data.Data(filepath, filename)"
   ]
  },
  {
   "cell_type": "code",
   "execution_count": 6,
   "metadata": {},
   "outputs": [],
   "source": [
    "# calculate M6 on each video [0:9] - for Demo\n",
    "m_set = {}\n",
    "for filename in filenames:\n",
    "    m_set[filename] = dset[filename].moments_images(6)[6]    "
   ]
  },
  {
   "cell_type": "code",
   "execution_count": 7,
   "metadata": {},
   "outputs": [
    {
     "data": {
      "text/plain": [
       "array([[ 146599590365744,   90571191029081,  272101760182672, ...,\n",
       "          59350132439161,   32492013076433,   11742189854429],\n",
       "       [ 223073243872876,  207648824920054,   61715281680522, ...,\n",
       "           9530095449668,   18279365814600,   21174860057859],\n",
       "       [  77229430498215,  153038091926215,  189051584844149, ...,\n",
       "          14653929813782,   45109892676569,   18534218455853],\n",
       "       ...,\n",
       "       [ 573095670561448,  991148087132016,  938150529138420, ...,\n",
       "          47006231879300,   30062304763719,   17725361481711],\n",
       "       [1859973333118466, 1562772890617558, 1248436575875913, ...,\n",
       "          44847745761565,   37261251153506,   84310458061269],\n",
       "       [2360888419163300, 2609975722106216, 1673360879587659, ...,\n",
       "          34032249773485,   47319812368833,   26658044108375]],\n",
       "      dtype=int64)"
      ]
     },
     "execution_count": 7,
     "metadata": {},
     "output_type": "execute_result"
    }
   ],
   "source": [
    "m_set[filenames[0]]"
   ]
  },
  {
   "cell_type": "code",
   "execution_count": 8,
   "metadata": {},
   "outputs": [
    {
     "data": {
      "text/plain": [
       "array([[6.35062902e+13, 4.64063106e+13, 1.06788957e+14, ...,\n",
       "        1.60361660e+13, 1.15015093e+13, 1.08286780e+13],\n",
       "       [1.18259012e+14, 1.21103295e+14, 1.51959512e+14, ...,\n",
       "        6.44740247e+12, 8.90343957e+12, 1.07081540e+13],\n",
       "       [5.44317778e+13, 6.91845495e+13, 9.66386714e+13, ...,\n",
       "        7.31817417e+12, 1.51763787e+13, 1.86079791e+13],\n",
       "       ...,\n",
       "       [4.61816367e+14, 7.12101976e+14, 7.51933863e+14, ...,\n",
       "        1.77102182e+13, 1.63993580e+13, 2.18691717e+13],\n",
       "       [7.08194112e+14, 9.95947123e+14, 9.80837660e+14, ...,\n",
       "        3.27902111e+13, 2.01624518e+13, 3.07440015e+13],\n",
       "       [1.17585781e+15, 1.16122366e+15, 1.08206784e+15, ...,\n",
       "        4.91985089e+13, 2.32157570e+13, 1.78659582e+13]])"
      ]
     },
     "execution_count": 8,
     "metadata": {},
     "output_type": "execute_result"
    }
   ],
   "source": [
    "nf = masks.gauss1D_mask(shape = (1,21), sigma = 2)\n",
    "filtering.noise_filter(dset, m_set, nf, filtername = 'noise filter after M6')\n",
    "dset[filenames[0]].filtered"
   ]
  },
  {
   "cell_type": "code",
   "execution_count": 9,
   "metadata": {},
   "outputs": [
    {
     "data": {
      "text/plain": [
       "array([[7.91879711e+13, 6.20580114e+13, 1.30682592e+14, ...,\n",
       "        1.69021031e+13, 1.28685530e+13, 1.36631781e+13],\n",
       "       [1.50277851e+14, 1.50978428e+14, 2.18156632e+14, ...,\n",
       "        8.17838662e+12, 1.08966292e+13, 1.30960081e+13],\n",
       "       [7.40439600e+13, 8.83395303e+13, 1.28500783e+14, ...,\n",
       "        9.46669929e+12, 1.61867425e+13, 2.35603296e+13],\n",
       "       ...,\n",
       "       [6.53789048e+14, 9.76909820e+14, 9.93978455e+14, ...,\n",
       "        2.07670370e+13, 2.25981915e+13, 3.47249983e+13],\n",
       "       [9.39768184e+14, 1.24241431e+15, 1.28203711e+15, ...,\n",
       "        4.36422087e+13, 2.47892542e+13, 3.63119445e+13],\n",
       "       [1.47397130e+15, 1.41541316e+15, 1.45069774e+15, ...,\n",
       "        8.26787959e+13, 2.75154972e+13, 2.26037341e+13]])"
      ]
     },
     "execution_count": 9,
     "metadata": {},
     "output_type": "execute_result"
    }
   ],
   "source": [
    "dset[filenames[1]].filtered"
   ]
  },
  {
   "cell_type": "code",
   "execution_count": null,
   "metadata": {
    "collapsed": true
   },
   "outputs": [],
   "source": [
    "# noise filtering\n",
    "# TODO: notes on how to determine the filter type / size.\n",
    "get_series = lambda i,j: [m_set[filename][i,j] for filename in filenames]\n",
    "noise_filter = gauss1D_mask(shape = (1,21), sigma = 2)\n",
    "xdim, ydim = np.shape(m_set[filenames[0]])\n",
    "m_length = len(filenames)\n",
    "# all the filtered image will be stored in a 3-dimensional (l,x,y) array m_filtered, and can be convreted to a dictionary later.\n",
    "m_filtered = np.zeros((m_length, xdim, ydim))\n",
    "\n",
    "for i in range(xdim):\n",
    "    for j in range(ydim):\n",
    "        time_series = get_series(i,j)\n",
    "        m_filtered[:,i,j] = filter1D_same(time_series, noise_filter)\n",
    "        # filtered_series = filter1D_same(time_series, noise_filter)\n",
    "        # m_filtered[:,i,j] = filtered_series\n",
    "\n",
    "# Add filtered images back to data class as a feature\n",
    "for k in range(m_length):\n",
    "    dset[filenames[k]].add_filtered(m_filtered[k], 'noise filter after M6')    "
   ]
  },
  {
   "cell_type": "code",
   "execution_count": 13,
   "metadata": {},
   "outputs": [],
   "source": [
    "nf = masks.gauss1D_mask(shape = (1,21), sigma = 2)\n",
    "def noise_filter(data_set, noise_filter, filtername = 'noise filter after M6', filenames = None, return_option = False):\n",
    "    if filenames is None:\n",
    "        filenames =[*data_set]\n",
    "    get_series = lambda i,j: [m_set[filename][i,j] for filename in filenames]\n",
    "    xdim, ydim = np.shape(m_set[filenames[0]])\n",
    "    m_length = len(filenames)\n",
    "    m_filtered = np.zeros((m_length, xdim, ydim))\n",
    "    for i in range(xdim):\n",
    "        for j in range(ydim):\n",
    "            time_series = get_series(i,j)\n",
    "            m_filtered[:,i,j] = filter1D_same(time_series, noise_filter)\n",
    "    for k in range(m_length):\n",
    "        dset[filenames[k]].add_filtered(m_filtered[k], filtername)\n",
    "        \n",
    "    if return_option == True:\n",
    "        return m_filtered"
   ]
  },
  {
   "cell_type": "code",
   "execution_count": 14,
   "metadata": {
    "scrolled": true
   },
   "outputs": [
    {
     "data": {
      "text/plain": [
       "array([[[6.35062902e+13, 4.64063106e+13, 1.06788957e+14, ...,\n",
       "         1.60361660e+13, 1.15015093e+13, 1.08286780e+13],\n",
       "        [1.18259012e+14, 1.21103295e+14, 1.51959512e+14, ...,\n",
       "         6.44740247e+12, 8.90343957e+12, 1.07081540e+13],\n",
       "        [5.44317778e+13, 6.91845495e+13, 9.66386714e+13, ...,\n",
       "         7.31817417e+12, 1.51763787e+13, 1.86079791e+13],\n",
       "        ...,\n",
       "        [4.61816367e+14, 7.12101976e+14, 7.51933863e+14, ...,\n",
       "         1.77102182e+13, 1.63993580e+13, 2.18691717e+13],\n",
       "        [7.08194112e+14, 9.95947123e+14, 9.80837660e+14, ...,\n",
       "         3.27902111e+13, 2.01624518e+13, 3.07440015e+13],\n",
       "        [1.17585781e+15, 1.16122366e+15, 1.08206784e+15, ...,\n",
       "         4.91985089e+13, 2.32157570e+13, 1.78659582e+13]],\n",
       "\n",
       "       [[7.91879711e+13, 6.20580114e+13, 1.30682592e+14, ...,\n",
       "         1.69021031e+13, 1.28685530e+13, 1.36631781e+13],\n",
       "        [1.50277851e+14, 1.50978428e+14, 2.18156632e+14, ...,\n",
       "         8.17838662e+12, 1.08966292e+13, 1.30960081e+13],\n",
       "        [7.40439600e+13, 8.83395303e+13, 1.28500783e+14, ...,\n",
       "         9.46669929e+12, 1.61867425e+13, 2.35603296e+13],\n",
       "        ...,\n",
       "        [6.53789048e+14, 9.76909820e+14, 9.93978455e+14, ...,\n",
       "         2.07670370e+13, 2.25981915e+13, 3.47249983e+13],\n",
       "        [9.39768184e+14, 1.24241431e+15, 1.28203711e+15, ...,\n",
       "         4.36422087e+13, 2.47892542e+13, 3.63119445e+13],\n",
       "        [1.47397130e+15, 1.41541316e+15, 1.45069774e+15, ...,\n",
       "         8.26787959e+13, 2.75154972e+13, 2.26037341e+13]],\n",
       "\n",
       "       [[9.09207302e+13, 7.77432939e+13, 1.42488664e+14, ...,\n",
       "         1.61417573e+13, 1.27147007e+13, 1.50277326e+13],\n",
       "        [1.64914238e+14, 1.63944364e+14, 2.55040045e+14, ...,\n",
       "         9.20907329e+12, 1.21626362e+13, 1.40662878e+13],\n",
       "        [9.03563553e+13, 1.03017022e+14, 1.51494830e+14, ...,\n",
       "         1.08922777e+13, 1.48449116e+13, 2.58383110e+13],\n",
       "        ...,\n",
       "        [8.27805769e+14, 1.19277765e+15, 1.17520855e+15, ...,\n",
       "         2.17245219e+13, 2.84051097e+13, 4.69904239e+13],\n",
       "        [1.23151837e+15, 1.39142692e+15, 1.45961096e+15, ...,\n",
       "         4.98113489e+13, 2.72442820e+13, 3.88758816e+13],\n",
       "        [1.64534418e+15, 1.54828707e+15, 1.71238944e+15, ...,\n",
       "         1.20517231e+14, 2.82311613e+13, 2.54669272e+13]],\n",
       "\n",
       "       ...,\n",
       "\n",
       "       [[1.09910037e+14, 1.05343372e+14, 1.05221666e+14, ...,\n",
       "         1.37932002e+13, 9.55277418e+12, 1.30825608e+13],\n",
       "        [1.07363482e+14, 1.21424360e+14, 1.98690779e+14, ...,\n",
       "         9.27892625e+12, 8.34979716e+12, 7.12047988e+12],\n",
       "        [9.31672021e+13, 1.04827308e+14, 1.14945607e+14, ...,\n",
       "         7.91274086e+12, 7.03036235e+12, 2.99560980e+13],\n",
       "        ...,\n",
       "        [1.26157606e+15, 1.43618168e+15, 1.22049551e+15, ...,\n",
       "         1.68812897e+13, 3.32190921e+13, 3.34624549e+13],\n",
       "        [1.84023586e+15, 1.47576344e+15, 1.39341637e+15, ...,\n",
       "         2.15748448e+13, 2.35157209e+13, 2.92304649e+13],\n",
       "        [1.48896074e+15, 9.65059270e+14, 1.14439933e+15, ...,\n",
       "         1.41613072e+14, 1.54902095e+13, 1.75598079e+13]],\n",
       "\n",
       "       [[1.02405567e+14, 8.92141801e+13, 8.76575626e+13, ...,\n",
       "         1.05113307e+13, 7.63961930e+12, 1.12234295e+13],\n",
       "        [9.73438709e+13, 1.09540016e+14, 1.85857001e+14, ...,\n",
       "         8.28338635e+12, 6.20552149e+12, 5.64344195e+12],\n",
       "        [8.09328877e+13, 8.92653274e+13, 9.33538125e+13, ...,\n",
       "         6.08462475e+12, 5.50468676e+12, 3.69720908e+13],\n",
       "        ...,\n",
       "        [1.21129784e+15, 1.25458720e+15, 9.84122512e+14, ...,\n",
       "         1.45718718e+13, 2.88539645e+13, 2.73893135e+13],\n",
       "        [1.52382834e+15, 1.18938636e+15, 1.24228122e+15, ...,\n",
       "         1.67572733e+13, 1.94274719e+13, 2.30260530e+13],\n",
       "        [1.35600891e+15, 7.10151483e+14, 9.89818691e+14, ...,\n",
       "         9.85178065e+13, 1.39057823e+13, 1.34051591e+13]],\n",
       "\n",
       "       [[8.63154013e+13, 7.06402844e+13, 6.61295977e+13, ...,\n",
       "         7.11243646e+12, 5.17545373e+12, 8.41532246e+12],\n",
       "        [8.13508662e+13, 8.84407954e+13, 1.48432054e+14, ...,\n",
       "         6.62251944e+12, 4.33399265e+12, 4.20870740e+12],\n",
       "        [6.43108571e+13, 6.77342527e+13, 6.75272060e+13, ...,\n",
       "         4.15259782e+12, 3.82322746e+12, 3.92562910e+13],\n",
       "        ...,\n",
       "        [1.03532407e+15, 9.74929549e+14, 7.06803493e+14, ...,\n",
       "         1.11849322e+13, 2.19998206e+13, 2.06165124e+13],\n",
       "        [1.18083316e+15, 8.33035660e+14, 9.93718571e+14, ...,\n",
       "         1.23959721e+13, 1.44307060e+13, 1.62586398e+13],\n",
       "        [1.11379651e+15, 4.75887161e+14, 8.11527086e+14, ...,\n",
       "         5.79206845e+13, 1.13690559e+13, 9.40703376e+12]]])"
      ]
     },
     "execution_count": 14,
     "metadata": {},
     "output_type": "execute_result"
    }
   ],
   "source": [
    "noise_filter(m_set, nf,return_option=True)"
   ]
  },
  {
   "cell_type": "code",
   "execution_count": null,
   "metadata": {
    "collapsed": true
   },
   "outputs": [],
   "source": [
    "# TODO: figure out how to import masks under the same function folder\n",
    "def gauss2D_mask(shape = (3,3), sigma = 0.5):\n",
    "    \"\"\"\n",
    "    2D gaussian mask - should give the same result as MATLAB's\n",
    "    fspecial('gaussian',[shape],[sigma])\n",
    "    \"\"\"\n",
    "    mdim, ndim = [(pixel-1) / 2 for pixel in shape]\n",
    "    y, x = np.ogrid[-mdim:(mdim + 1), -ndim:(ndim + 1)]\n",
    "    h = np.exp( -(x*x + y*y) / (2*sigma*sigma) )\n",
    "    h[h < np.finfo(h.dtype).eps * h.max()] = 0\n",
    "    sumh = h.sum()\n",
    "    if sumh != 0:\n",
    "        h /= sumh\n",
    "    return h\n",
    "\n",
    "def gauss1D_mask(shape = (1,3), sigma = 0.5):\n",
    "    return gauss2D_mask(shape, sigma)[0]"
   ]
  },
  {
   "cell_type": "code",
   "execution_count": 11,
   "metadata": {},
   "outputs": [],
   "source": [
    "def filter1D_same(time_series, noise_filter):\n",
    "    '''\n",
    "    Filter original time_series with noise_filter, and return the filtered_series with the same \n",
    "    length as the original sereis.\n",
    "    Compared to MATLAB results, when the length of the filter and frame number are both even, \n",
    "    the filtered result would shift to left by one number. In other cases, results are the same.\n",
    "    '''\n",
    "    filtered_series = np.convolve(time_series, noise_filter, 'full')\n",
    "    filtered_center = len(filtered_series)//2\n",
    "    original_center = len(time_series)/2\n",
    "    filtered_series = filtered_series[np.int(filtered_center - np.floor(original_center)):np.int(filtered_center + np.ceil(original_center))]\n",
    "    return filtered_series"
   ]
  },
  {
   "cell_type": "code",
   "execution_count": null,
   "metadata": {},
   "outputs": [],
   "source": []
  }
 ],
 "metadata": {
  "kernelspec": {
   "display_name": "Python 3",
   "language": "python",
   "name": "python3"
  },
  "language_info": {
   "codemirror_mode": {
    "name": "ipython",
    "version": 3
   },
   "file_extension": ".py",
   "mimetype": "text/x-python",
   "name": "python",
   "nbconvert_exporter": "python",
   "pygments_lexer": "ipython3",
   "version": "3.8.5"
  }
 },
 "nbformat": 4,
 "nbformat_minor": 2
}
