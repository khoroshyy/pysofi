{
 "cells": [
  {
   "cell_type": "code",
   "execution_count": 1,
   "metadata": {},
   "outputs": [],
   "source": [
    "import os\n",
    "import sys\n",
    "sys.path.insert(1, os.path.realpath('..'))\n",
    "import data"
   ]
  },
  {
   "cell_type": "code",
   "execution_count": 10,
   "metadata": {
    "collapsed": true
   },
   "outputs": [],
   "source": [
    "fp = '../SampleData'\n",
    "fn = 'Block1.tif'\n",
    "d = data.Data(fp,fn)"
   ]
  },
  {
   "cell_type": "code",
   "execution_count": 11,
   "metadata": {},
   "outputs": [
    {
     "data": {
      "text/plain": [
       "Image([[ 677.295,  688.97 ,  699.125, ...,  413.005,  412.495,  416.98 ],\n",
       "       [ 686.195,  704.59 ,  727.305, ...,  391.375,  419.825,  426.42 ],\n",
       "       [ 700.645,  722.73 ,  716.485, ...,  406.17 ,  421.555,  421.26 ],\n",
       "       ...,\n",
       "       [1274.97 , 1285.755, 1348.43 , ...,  530.495,  535.045,  534.625],\n",
       "       [1292.12 , 1382.345, 1428.71 , ...,  538.63 ,  543.785,  538.535],\n",
       "       [1375.51 , 1440.95 , 1462.345, ...,  526.055,  541.445,  520.215]])"
      ]
     },
     "execution_count": 11,
     "metadata": {},
     "output_type": "execute_result"
    }
   ],
   "source": [
    "# average image\n",
    "d.average_image()\n",
    "d.ave"
   ]
  },
  {
   "cell_type": "code",
   "execution_count": null,
   "metadata": {
    "scrolled": true
   },
   "outputs": [],
   "source": [
    "# moments reconstruction\n",
    "mim = d.moments_images()\n",
    "mim"
   ]
  },
  {
   "cell_type": "code",
   "execution_count": null,
   "metadata": {
    "scrolled": true
   },
   "outputs": [],
   "source": [
    "# moments reconstruction with highest_order defined\n",
    "mim = d.moments_images(5)\n",
    "mim"
   ]
  },
  {
   "cell_type": "code",
   "execution_count": null,
   "metadata": {
    "scrolled": true
   },
   "outputs": [],
   "source": [
    "# cumulants reconstruction from moments (morder = corder)\n",
    "d.cumulants_images(5)\n",
    "d.cumulants_set[4]"
   ]
  },
  {
   "cell_type": "code",
   "execution_count": null,
   "metadata": {},
   "outputs": [],
   "source": [
    "# cumulants reconstruction from moments (morder < corder)\n",
    "d.cumulants_images(6)\n",
    "d.cumulants_set[4]"
   ]
  },
  {
   "cell_type": "code",
   "execution_count": null,
   "metadata": {},
   "outputs": [],
   "source": [
    "# ldrc\n",
    "d.ldrc()"
   ]
  },
  {
   "cell_type": "code",
   "execution_count": null,
   "metadata": {},
   "outputs": [],
   "source": [
    "d.ldrc(order = 4, window_size = 25, mask_im = d.ave, input_im = mim[4])"
   ]
  },
  {
   "cell_type": "code",
   "execution_count": null,
   "metadata": {},
   "outputs": [],
   "source": [
    "# deconvsk\n",
    "deconv_im = d.deconvsk()\n",
    "deconv_im"
   ]
  },
  {
   "cell_type": "code",
   "execution_count": null,
   "metadata": {
    "collapsed": true
   },
   "outputs": [],
   "source": [
    "# finterp\n",
    "finterp_im = d.finterp_image()\n",
    "finterp_im"
   ]
  },
  {
   "cell_type": "code",
   "execution_count": null,
   "metadata": {
    "collapsed": true
   },
   "outputs": [],
   "source": []
  }
 ],
 "metadata": {
  "kernelspec": {
   "display_name": "Python 3",
   "language": "python",
   "name": "python3"
  },
  "language_info": {
   "codemirror_mode": {
    "name": "ipython",
    "version": 3
   },
   "file_extension": ".py",
   "mimetype": "text/x-python",
   "name": "python",
   "nbconvert_exporter": "python",
   "pygments_lexer": "ipython3",
   "version": "3.6.8"
  }
 },
 "nbformat": 4,
 "nbformat_minor": 2
}
