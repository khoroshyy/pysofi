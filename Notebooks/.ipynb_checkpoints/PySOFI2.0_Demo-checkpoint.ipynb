{
 "cells": [
  {
   "cell_type": "markdown",
   "metadata": {},
   "source": [
    "# Example - Live-Cell Actin Filaments\n",
    "\n",
    "This notebook is a demonstration of the super-resolution fluorescence imaging method, pysofi, on live-cell imaging data. **(TODO: add sample data details)**. The dataset is composed of 20 tiff videos in sequence ('Block1.tif' to 'Block20.tif'), and each video has 200 frames. This notebook shows a standard workflow of pysofi to achieve high order Super-resolution Optical Fluctuation Imaging (SOFI) images. Briefly, we demonstrate a pipeline of\n",
    "1. Fourier interpolation \n",
    "2. Moments reconstrtuction or cumulants reconstruction \n",
    "3. Noise filtering 1 \n",
    "4. Shrinking kernel deconvolution\n",
    "5. Noise filtering 2 \n",
    "6. Local dynamic range compression (ldrc)\n",
    "\n",
    "In the end, the processed image / video will be saved into a new tiff file with the colormap the user selects.\n",
    "\n",
    "Before running the notebook, please make sure you have set up the environment. You can install all required packages with:\n",
    "\n",
    "<pre><code>pip install -r environment.txt\n",
    "</code></pre>"
   ]
  },
  {
   "cell_type": "code",
   "execution_count": 4,
   "metadata": {},
   "outputs": [],
   "source": [
    "import sys\n",
    "sys.path.append('..')\n",
    "import numpy as np\n",
    "import matplotlib.pyplot as plt\n",
    "from functions import visualization as v\n",
    "from functions import (data, filtering, masks)\n",
    "import tifffile as tiff"
   ]
  },
  {
   "cell_type": "markdown",
   "metadata": {},
   "source": [
    "## Load Image / Video (Tiff Files)\n",
    "\n",
    "This sample dataset has 20 tiff files in an order from 1 to 20. First, we load all videos into a dictionary (dset) by the order, where keys are filenames (e.g. 'Block1.tif') and values are Data objects (<functions.data.Data at 0x1cab5599760>)."
   ]
  },
  {
   "cell_type": "code",
   "execution_count": 5,
   "metadata": {},
   "outputs": [],
   "source": [
    "filenum = 20\n",
    "filepath = '../SampleData'\n",
    "filenames = ['Block' + str(i+1) + '.tif' for i in range(filenum)]\n",
    "dset = {}\n",
    "\n",
    "for filename in filenames:\n",
    "    dset[filename] = data.Data(filepath, filename)"
   ]
  },
  {
   "cell_type": "markdown",
   "metadata": {},
   "source": [
    "If you don't get any message, the file is loaded successfully. We can check basic information of each data object including **dimensions** and **frame numbers**. For instance, for the third video ('Block3.tif'), we can get:"
   ]
  },
  {
   "cell_type": "code",
   "execution_count": 14,
   "metadata": {},
   "outputs": [
    {
     "name": "stdout",
     "output_type": "stream",
     "text": [
      "Information of 'Block3.tif':\n",
      "\n",
      "Number of frames:  200\n",
      "Pixel numbers:  450 * 450\n"
     ]
    }
   ],
   "source": [
    "print(\"Information of '\" + filenames[2] + \"':\\n\")\n",
    "    \n",
    "print('Number of frames: ', dset[filenames[2]].n_frames)\n",
    "print('Pixel numbers: ', dset[filenames[2]].xdim, '*', dset[filenames[2]].ydim)"
   ]
  },
  {
   "cell_type": "markdown",
   "metadata": {},
   "source": [
    "## 1. Fourier Interpolation\n",
    "\n",
    "This step performs Fourier interpolation of each frame from the input TIFF file, and produce an output TIFF file consists of the interpolated frames from the input.\n",
    "\n",
    "Mirror extension of each frame was performed prior to Fourier interpolation to avoid ringing artifacts. Fourier interpolation was implemented with transformation matrix operation, where the Fourier transformation matrix was constructed with the original matrix size without interpolation grids, and the inverse Fourier transform matrix encodes the extra interpolation position coordinates. This way we create a mathematical equivalence of zero-padding Fourier interpolation, but avoid actual zero-padding of the matrix before inverse Fourier transform in order to reduce the physical memory occupation for the operation.\n",
    "\n",
    "The resulting TIFF file can be applied for SOFI processing to produce fSOFI results.\n",
    "\n"
   ]
  },
  {
   "cell_type": "markdown",
   "metadata": {},
   "source": [
    "Note that it might takes up a long time and large storage to process files with large frame number, dimensions or high interpolation factor.\n",
    "\n",
    "The user can carry out interpolation first and save the interpolated image / video for following step, or skip this step and set finterp = True in moments or cumulants reconstruction. We recommend to have factor two times bigger than the order number."
   ]
  },
  {
   "cell_type": "code",
   "execution_count": null,
   "metadata": {},
   "outputs": [],
   "source": [
    "# finterp demo"
   ]
  },
  {
   "cell_type": "markdown",
   "metadata": {},
   "source": [
    "## 2. Moments and cumulants reconstruction\n",
    "\n",
    "Intro Calculate M6 on each video [0:9] - for Demo. Here, we choose order number = 6\n",
    "\n",
    "**TODO: add finterp**\n",
    "\n",
    "Due to cusp-artefects (ref), here we choose a practical method using moments reconstruction. For even orders, we can alaways get positive values for each pixel, avioding cusp-artefects for reconstructed images."
   ]
  },
  {
   "cell_type": "code",
   "execution_count": null,
   "metadata": {},
   "outputs": [],
   "source": [
    "m_set = {}\n",
    "for filename in filenames:\n",
    "    m_set[filename] = dset[filename].moments_images(6)[6]"
   ]
  },
  {
   "cell_type": "markdown",
   "metadata": {},
   "source": [
    "Plot M6 of block 6"
   ]
  },
  {
   "cell_type": "code",
   "execution_count": null,
   "metadata": {
    "scrolled": true
   },
   "outputs": [],
   "source": [
    "# Plot M6 of block 6\n",
    "v.bokeh_visualization(m_set[filenames[5]])"
   ]
  },
  {
   "cell_type": "code",
   "execution_count": null,
   "metadata": {},
   "outputs": [],
   "source": [
    "# 3. Noise filtering on M6 seriers\n",
    "nf = masks.gauss1D_mask(shape = (1,21), sigma = 2)\n",
    "filtering.noise_filter1d(dset, m_set, nf, filtername = 'noise filter after M6')\n",
    "dset[filenames[1]].filtered     # filtered M6 of block 2"
   ]
  },
  {
   "cell_type": "code",
   "execution_count": null,
   "metadata": {},
   "outputs": [],
   "source": [
    "# 4. Shrinking kernal deconvolution on filtered M6\n",
    "deconv_psf0 = masks.gauss2D_mask((51, 51), 2)\n",
    "deconv_psf0 = deconv_psf0 / np.max(deconv_psf0)\n",
    "deconv_lambda = 1.5\n",
    "deconv_iter = 20\n",
    "deconv_set  ={}\n",
    "\n",
    "for filename in filenames:\n",
    "    # print(filename)\n",
    "    im = dset[filename].filtered\n",
    "    deconv_set[filename] = dset[filename].deconvsk(deconv_psf0, im, deconv_lambda, deconv_iter)\n",
    "    # tiff.imwrite('deconv.tif', deconv_im, append=True)    # save tiff stack"
   ]
  },
  {
   "cell_type": "code",
   "execution_count": null,
   "metadata": {
    "scrolled": true
   },
   "outputs": [],
   "source": [
    "# 5. Noise filtering on deconvoluted image sereis\n",
    "nf = masks.gauss1D_mask(shape = (1,21), sigma = 2)\n",
    "filtering.noise_filter(dset, deconv_set, nf, filtername = 'noise filter after deconvolution', filenames=filenames)\n",
    "v.bokeh_visualization(dset[filenames[3]].filtered)     # filtered deconvoluted image of block 4"
   ]
  },
  {
   "cell_type": "code",
   "execution_count": null,
   "metadata": {},
   "outputs": [],
   "source": [
    "# 6. LDRC on the filtered image sereis\n",
    "window_size = 25\n",
    "ldrc_set = {}\n",
    "\n",
    "for filename in filenames:\n",
    "    mask_im = dset[filename].average_image()\n",
    "    ldrc_set[filename] = dset[filename].ldrc(window_size = window_size, mask_im = mask_im, input_im = dset[filename].filtered)\n"
   ]
  },
  {
   "cell_type": "code",
   "execution_count": null,
   "metadata": {
    "scrolled": true
   },
   "outputs": [],
   "source": [
    "# Plot final image of block 4\n",
    "v.bokeh_visualization(ldrc_set[filenames[5]])"
   ]
  },
  {
   "cell_type": "code",
   "execution_count": null,
   "metadata": {},
   "outputs": [],
   "source": [
    "# save the final image stack as a .tif file\n",
    "import tifffile as tiff\n",
    "for filename in filenames:\n",
    "    tiff.imwrite('demo_pysofi.tif', ldrc_set[filename], append=True)"
   ]
  },
  {
   "cell_type": "code",
   "execution_count": null,
   "metadata": {},
   "outputs": [],
   "source": [
    "# save the final image stack as a .tif file with rounding to int16 and increased contrast to view in imageJ\n",
    "for filename in filenames:\n",
    "    tiff.imwrite('demo_pysofi_int16.tif', np.int16(np.around(ldrc_set[filename]*2)), append=True)"
   ]
  },
  {
   "cell_type": "code",
   "execution_count": null,
   "metadata": {},
   "outputs": [],
   "source": []
  },
  {
   "cell_type": "code",
   "execution_count": null,
   "metadata": {},
   "outputs": [],
   "source": []
  }
 ],
 "metadata": {
  "kernelspec": {
   "display_name": "Python 3",
   "language": "python",
   "name": "python3"
  },
  "language_info": {
   "codemirror_mode": {
    "name": "ipython",
    "version": 3
   },
   "file_extension": ".py",
   "mimetype": "text/x-python",
   "name": "python",
   "nbconvert_exporter": "python",
   "pygments_lexer": "ipython3",
   "version": "3.8.5"
  }
 },
 "nbformat": 4,
 "nbformat_minor": 2
}
