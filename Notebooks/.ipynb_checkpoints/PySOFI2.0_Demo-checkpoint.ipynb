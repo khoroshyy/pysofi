{
 "cells": [
  {
   "cell_type": "code",
   "execution_count": null,
   "metadata": {},
   "outputs": [],
   "source": [
    "import sys\n",
    "sys.path.append('..')\n",
    "import numpy as np\n",
    "import matplotlib.pyplot as plt\n",
    "from functions import visualization as v\n",
    "from functions import (data, filtering, masks)\n",
    "import tifffile as tiff\n",
    "%matplotlib inline"
   ]
  },
  {
   "cell_type": "code",
   "execution_count": null,
   "metadata": {},
   "outputs": [],
   "source": [
    "# 1. Load all videos into dictionary dset, keys are filenames, values are data object - for Demo\n",
    "filenum = 20\n",
    "filepath = '../SampleData'\n",
    "filenames = ['Block' + str(i+1) + '.tif' for i in range(filenum)]\n",
    "dset = {}\n",
    "\n",
    "for filename in filenames:\n",
    "    dset[filename] = data.Data(filepath, filename)"
   ]
  },
  {
   "cell_type": "code",
   "execution_count": null,
   "metadata": {},
   "outputs": [],
   "source": [
    "imstack = tiff.TiffFile(filepath + '/' + filename)\n",
    "im = tiff.TiffFile(filepath + '/' + filename, keys=0)"
   ]
  },
  {
   "cell_type": "code",
   "execution_count": null,
   "metadata": {},
   "outputs": [],
   "source": [
    "# 2. Calculate M6 on each video [0:9] - for Demo\n",
    "m_set = {}\n",
    "for filename in filenames:\n",
    "    m_set[filename] = dset[filename].moments_images(6)[6]"
   ]
  },
  {
   "cell_type": "code",
   "execution_count": null,
   "metadata": {
    "scrolled": true
   },
   "outputs": [],
   "source": [
    "# Plot M6 of block 6\n",
    "v.bokeh_visualization(m_set[filenames[5]])"
   ]
  },
  {
   "cell_type": "code",
   "execution_count": null,
   "metadata": {},
   "outputs": [],
   "source": [
    "np.finfo('float64').eps"
   ]
  },
  {
   "cell_type": "code",
   "execution_count": null,
   "metadata": {},
   "outputs": [],
   "source": [
    "# 3. Noise filtering on M6 seriers\n",
    "nf = masks.gauss1D_mask(shape = (1,21), sigma = 2)\n",
    "filtering.noise_filter1d(dset, m_set, nf, filtername = 'noise filter after M6')\n",
    "dset[filenames[1]].filtered     # filtered M6 of block 2"
   ]
  },
  {
   "cell_type": "code",
   "execution_count": null,
   "metadata": {},
   "outputs": [],
   "source": [
    "# 4. Shrinking kernal deconvolution on filtered M6\n",
    "deconv_psf0 = masks.gauss2D_mask((51, 51), 2)\n",
    "deconv_psf0 = deconv_psf0 / np.max(deconv_psf0)\n",
    "deconv_lambda = 1.5\n",
    "deconv_iter = 20\n",
    "deconv_set  ={}\n",
    "\n",
    "for filename in filenames:\n",
    "    # print(filename)\n",
    "    im = dset[filename].filtered\n",
    "    deconv_set[filename] = dset[filename].deconvsk(deconv_psf0, im, deconv_lambda, deconv_iter)\n",
    "    # tiff.imwrite('deconv.tif', deconv_im, append=True)    # save tiff stack"
   ]
  },
  {
   "cell_type": "code",
   "execution_count": null,
   "metadata": {
    "scrolled": true
   },
   "outputs": [],
   "source": [
    "# 5. Noise filtering on deconvoluted image sereis\n",
    "nf = masks.gauss1D_mask(shape = (1,21), sigma = 2)\n",
    "filtering.noise_filter(dset, deconv_set, nf, filtername = 'noise filter after deconvolution', filenames=filenames)\n",
    "v.bokeh_visualization(dset[filenames[3]].filtered)     # filtered deconvoluted image of block 4"
   ]
  },
  {
   "cell_type": "code",
   "execution_count": null,
   "metadata": {},
   "outputs": [],
   "source": [
    "# 6. LDRC on the filtered image sereis\n",
    "window_size = 25\n",
    "ldrc_set = {}\n",
    "\n",
    "for filename in filenames:\n",
    "    mask_im = dset[filename].average_image()\n",
    "    ldrc_set[filename] = dset[filename].ldrc(window_size = window_size, mask_im = mask_im, input_im = dset[filename].filtered)\n"
   ]
  },
  {
   "cell_type": "code",
   "execution_count": null,
   "metadata": {
    "scrolled": true
   },
   "outputs": [],
   "source": [
    "# Plot final image of block 4\n",
    "v.bokeh_visualization(ldrc_set[filenames[5]])"
   ]
  },
  {
   "cell_type": "code",
   "execution_count": null,
   "metadata": {},
   "outputs": [],
   "source": [
    "# save the final image stack as a .tif file\n",
    "import tifffile as tiff\n",
    "for filename in filenames:\n",
    "    tiff.imwrite('demo_pysofi.tif', ldrc_set[filename], append=True)"
   ]
  },
  {
   "cell_type": "code",
   "execution_count": null,
   "metadata": {},
   "outputs": [],
   "source": [
    "# save the final image stack as a .tif file with rounding to int16 and increased contrast to view in imageJ\n",
    "for filename in filenames:\n",
    "    tiff.imwrite('demo_pysofi_int16.tif', np.int16(np.around(ldrc_set[filename]*2)), append=True)"
   ]
  },
  {
   "cell_type": "code",
   "execution_count": null,
   "metadata": {},
   "outputs": [],
   "source": []
  },
  {
   "cell_type": "code",
   "execution_count": null,
   "metadata": {},
   "outputs": [],
   "source": []
  }
 ],
 "metadata": {
  "kernelspec": {
   "display_name": "Python 3",
   "language": "python",
   "name": "python3"
  },
  "language_info": {
   "codemirror_mode": {
    "name": "ipython",
    "version": 3
   },
   "file_extension": ".py",
   "mimetype": "text/x-python",
   "name": "python",
   "nbconvert_exporter": "python",
   "pygments_lexer": "ipython3",
   "version": "3.8.5"
  }
 },
 "nbformat": 4,
 "nbformat_minor": 2
}
