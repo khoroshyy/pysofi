{
 "cells": [
  {
   "cell_type": "markdown",
   "metadata": {},
   "source": [
    "# Module 5 - Fourier interpolation\n",
    "\n",
    "In this notebook, we demonstrate how to use **pysofi** to increase the\n",
    "\n",
    "\n",
    "compresses the dynamic range of moment- and cumulant- reconstructed images using the LDRC method.\n",
    "The Fourier SOFI (fSOFI) algorithm pre-processes the raw input movie to generate physically meaningful higher-resolution output images, yielding an improved image fidelity. \n",
    "\n",
    "and which is based on the fact that the Optical Transfer Function (OTF) of a microscope has only a finite support. Thus, for sufficiently large spatial frequencies, a microscope does not transmit any further information, which is also the origin of the classical resolution limit. Thus, when performing a Fourier transform on an image, the Fourier amplitudes will drop to zero at large values of the Fourier vector. Padding the Fourier-transformed image with zeros will does not change or alter its information content, but after back-transforming such a padded image into real space, one obtains an image with increased pixel number of reduced size. This procedure thus represents a method of exact interpolation of the original image, without introduction of artifacts. Using this interpolation scheme, the pixel size of the original frames of a recorded movie can be adapted to the desired spatial resolution delivered by SOFI. We call this combination of SOFI with Fourier-transform based interpolation Fourier-SOFI or fSOFI, and in what follows, we give a detailed description of its principles and exemplify the method on imaging fluorescently labeled neurons.\n",
    "\n",
    "There exists a much simpler and exact solution to this problem. The core idea is to recalculate the recorded images F(r,t) on a finer grid with reduced pixel size before calculating the SOFI images. This can be done exactly by employing the fact that Fourier transform of the PSF, which is called the Optical Transfer Function (OTF), has only a finite support. With other word, for sufficiently large absolute values of the Fourier vectors, the OTF drops to zero. This can be used to devise an interpolation scheme for re-calculating the recorded images on a finer pixel grid without introducing any artifacts.\n"
   ]
  }
 ],
 "metadata": {
  "kernelspec": {
   "display_name": "Python 3",
   "language": "python",
   "name": "python3"
  },
  "language_info": {
   "codemirror_mode": {
    "name": "ipython",
    "version": 3
   },
   "file_extension": ".py",
   "mimetype": "text/x-python",
   "name": "python",
   "nbconvert_exporter": "python",
   "pygments_lexer": "ipython3",
   "version": "3.8.5"
  }
 },
 "nbformat": 4,
 "nbformat_minor": 4
}
