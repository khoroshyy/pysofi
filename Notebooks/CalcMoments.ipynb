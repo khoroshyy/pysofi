{
 "cells": [
  {
   "cell_type": "code",
   "execution_count": 1,
   "metadata": {
    "collapsed": true
   },
   "outputs": [],
   "source": [
    "import numpy as np\n",
    "import imageio\n",
    "import scipy.special\n",
    "from scipy.interpolate import griddata\n",
    "import matplotlib.pyplot as plt\n",
    "\n",
    "filepath = 'SampleData'\n",
    "filename = 'Block1.tif'"
   ]
  },
  {
   "cell_type": "code",
   "execution_count": 2,
   "metadata": {
    "collapsed": true
   },
   "outputs": [],
   "source": [
    "def average_image(filepath, filename):\n",
    "    '''\n",
    "    Get the average image for a video file (tiff stack).\n",
    "    '''\n",
    "    # TODO: the user can define the number of sub-blocks, and get average image for each bloack.\n",
    "    im = imageio.imread(filepath + '/' + filename)\n",
    "    xdim, ydim = np.shape(im)    # get dimensions\n",
    "    mean_im = np.zeros((im.shape))\n",
    "    \n",
    "    vid_reader = imageio.get_reader(filepath + '/' + filename)\n",
    "    mvlength = vid_reader.get_length()\n",
    "    for frame in vid_reader:\n",
    "        mean_im = mean_im + frame    \n",
    "    mean_im = mean_im / mvlength\n",
    "    \n",
    "    return mean_im"
   ]
  },
  {
   "cell_type": "code",
   "execution_count": 3,
   "metadata": {},
   "outputs": [
    {
     "data": {
      "text/plain": [
       "Image([[ 677.295,  688.97 ,  699.125, ...,  413.005,  412.495,  416.98 ],\n",
       "       [ 686.195,  704.59 ,  727.305, ...,  391.375,  419.825,  426.42 ],\n",
       "       [ 700.645,  722.73 ,  716.485, ...,  406.17 ,  421.555,  421.26 ],\n",
       "       ...,\n",
       "       [1274.97 , 1285.755, 1348.43 , ...,  530.495,  535.045,  534.625],\n",
       "       [1292.12 , 1382.345, 1428.71 , ...,  538.63 ,  543.785,  538.535],\n",
       "       [1375.51 , 1440.95 , 1462.345, ...,  526.055,  541.445,  520.215]])"
      ]
     },
     "execution_count": 3,
     "metadata": {},
     "output_type": "execute_result"
    }
   ],
   "source": [
    "xx = average_image(filepath, filename)\n",
    "xx"
   ]
  },
  {
   "cell_type": "code",
   "execution_count": 4,
   "metadata": {
    "collapsed": true
   },
   "outputs": [],
   "source": [
    "def calc_moments(filepath, filename, highest_order):\n",
    "    '''\n",
    "    Get all moment-reconstructed images to the user-defined highest order for a video (tiff stack).\n",
    "    '''\n",
    "    # TODO: the user can define the number of sub-blocks, and get moment images for each bloack.\n",
    "    mean_im = average_image(filepath, filename)\n",
    "    xdim, ydim = np.shape(mean_im)\n",
    "    m_set = {}\n",
    "    calculated_moment_images = []\n",
    "    vid_reader = imageio.get_reader(filepath + '/' + filename)\n",
    "    mvlength = vid_reader.get_length()\n",
    "    \n",
    "    for order in range(highest_order):\n",
    "        m_set[order+1] = np.zeros((xdim, ydim))\n",
    "        for frame in vid_reader:\n",
    "            m_set[order+1] = m_set[order+1] + np.power(frame - mean_im, order+1)\n",
    "        \n",
    "        m_set[order+1] = np.int64(m_set[order+1] / mvlength)\n",
    "    return m_set"
   ]
  },
  {
   "cell_type": "code",
   "execution_count": 5,
   "metadata": {},
   "outputs": [],
   "source": [
    "tt=calc_moments(filepath, filename, 5)"
   ]
  },
  {
   "cell_type": "code",
   "execution_count": 6,
   "metadata": {
    "collapsed": true
   },
   "outputs": [],
   "source": [
    "def calc_cumulants_from_moments(moment_set, highest_order):\n",
    "    '''\n",
    "    Calculate cumulant-reconstructed images from moment-reconstructed images.\n",
    "    '''\n",
    "    k_set = {}\n",
    "    for order in range(1, highest_order + 1):\n",
    "        k_set[order] = np.int64(moment_set[order] - np.sum(np.array([scipy.special.comb(order-1,i)*k_set[order-i]*moment_set[i] for i in range(1,order)]),axis=0))\n",
    "    \n",
    "    return k_set"
   ]
  },
  {
   "cell_type": "code",
   "execution_count": 7,
   "metadata": {},
   "outputs": [
    {
     "data": {
      "text/plain": [
       "Image([[  10788225821,   -8938860437,  131930866964, ...,  -13630617832,\n",
       "           2949436217,   -7499664124],\n",
       "       [  92904568568,   16167664183,    5813516017, ...,   -5099694152,\n",
       "          -5892362126,   -7019951842],\n",
       "       [ -28103978400,  -77038248736,   71148538447, ...,   -3499087126,\n",
       "            792336426,  -10655484752],\n",
       "       ...,\n",
       "       [ -45156879102,   56471679654, -199690549063, ...,    8526359545,\n",
       "           2825243382,  -16567264873],\n",
       "       [-211108093729,  -10489645781, -242689483642, ...,   -9464496348,\n",
       "         -14852850519,  -30960002793],\n",
       "       [-214754116075,  -68473503708, -329169138111, ...,  -26616579400,\n",
       "         -22253888330,    5994772755]])"
      ]
     },
     "execution_count": 7,
     "metadata": {},
     "output_type": "execute_result"
    }
   ],
   "source": [
    "kk=calc_cumulants_from_moments(tt, 5)\n",
    "kk[5]"
   ]
  },
  {
   "cell_type": "code",
   "execution_count": 8,
   "metadata": {
    "scrolled": true
   },
   "outputs": [
    {
     "data": {
      "text/plain": [
       "{1: Image([[0, 0, 0, ..., 0, 0, 0],\n",
       "        [0, 0, 0, ..., 0, 0, 0],\n",
       "        [0, 0, 0, ..., 0, 0, 0],\n",
       "        ...,\n",
       "        [0, 0, 0, ..., 0, 0, 0],\n",
       "        [0, 0, 0, ..., 0, 0, 0],\n",
       "        [0, 0, 0, ..., 0, 0, 0]]),\n",
       " 2: Image([[21213, 16718, 19022, ..., 13316, 10310,  9398],\n",
       "        [19050, 19709, 18398, ...,  7570, 10577, 10664],\n",
       "        [17708, 22708, 20651, ...,  9781, 11541, 11051],\n",
       "        ...,\n",
       "        [34483, 41634, 41795, ..., 13214, 12056, 12146],\n",
       "        [47728, 48433, 45340, ..., 15030, 13819, 15979],\n",
       "        [48235, 56810, 51111, ..., 13744, 14302, 10319]]),\n",
       " 3: Image([[ 953057,  936245, 1128340, ..., 1274646,  808787,  441399],\n",
       "        [1301344, 1884027,  101102, ...,  457510,  447120,  524821],\n",
       "        [ 644556, 1224052,  770136, ...,  284251, 1054820,  519248],\n",
       "        ...,\n",
       "        [1767622, 1448126, 1468811, ...,  506213,  405047,  419591],\n",
       "        [4357143, -423133, 3508082, ...,  463567,  661778, 1346977],\n",
       "        [6420504, 2074726, 2988785, ...,  754172,  838597,  563739]]),\n",
       " 4: Image([[ 1314879708,   976484136,  1624964321, ...,   672521351,\n",
       "           401740703,   258931069],\n",
       "        [ 1439940717,  1482910410,   875030124, ...,   205368533,\n",
       "           342359807,   364755243],\n",
       "        [  914595519,  1493065997,  1470526347, ...,   286004221,\n",
       "           519103239,   348023087],\n",
       "        ...,\n",
       "        [ 3455167053,  5001679647,  4872195769, ...,   592541320,\n",
       "           458891580,   377865900],\n",
       "        [ 7074297997,  6979313722,  5709118166, ...,   674761754,\n",
       "           582096410,   883567316],\n",
       "        [ 8039203217, 10030276198,  7422132487, ...,   539977640,\n",
       "           666011667,   374377955]]),\n",
       " 5: Image([[ 212960207231,  147582578663,  346563701764, ...,  156101243528,\n",
       "           86335375917,   33983013896],\n",
       "        [ 340810600568,  387490545613,   24414261977, ...,   29533812848,\n",
       "           41399520274,   48946959598],\n",
       "        [  86033998080,  200919479424,  230189323807, ...,   24303503184,\n",
       "          122529112626,   46726611728],\n",
       "        ...,\n",
       "        [ 564372215158,  659384458494,  414199008387, ...,   75417345365,\n",
       "           51657709702,   34396257987],\n",
       "        [1868469117311, -215425651671, 1347874895158, ...,   60209623752,\n",
       "           76598251301,  184273452037],\n",
       "        [2882175988325, 1110178336892, 1198428763239, ...,   77036820280,\n",
       "           97682254610,   64167000165]]),\n",
       " 6: Image([[ 146599590365744,   90571191029081,  272101760182672, ...,\n",
       "           59350132439161,   32492013076433,   11742189854429],\n",
       "        [ 223073243872876,  207648824920054,   61715281680522, ...,\n",
       "            9530095449668,   18279365814600,   21174860057859],\n",
       "        [  77229430498215,  153038091926215,  189051584844149, ...,\n",
       "           14653929813782,   45109892676569,   18534218455853],\n",
       "        ...,\n",
       "        [ 573095670561448,  991148087132016,  938150529138420, ...,\n",
       "           47006231879300,   30062304763719,   17725361481711],\n",
       "        [1859973333118466, 1562772890617558, 1248436575875913, ...,\n",
       "           44847745761565,   37261251153506,   84310458061269],\n",
       "        [2360888419163300, 2609975722106216, 1673360879587659, ...,\n",
       "           34032249773485,   47319812368833,   26658044108375]]),\n",
       " 7: Image([[  45151215409596664,   21040290450053364,   94292265544230592,\n",
       "         ...,   18222794315521560,    9908307431359982,\n",
       "            2347720633796412],\n",
       "        [  83361575408202064,   80120798491140416,    4011495812060253,\n",
       "         ...,    1890456778861882,    3526634759142697,\n",
       "            4487556304352187],\n",
       "        [  10792142256876020,   32216244892204108,   57476647033824736,\n",
       "         ...,    2311516150621459,   14294285963467384,\n",
       "            3965277799141886],\n",
       "        ...,\n",
       "        [ 167064571179835840,  265333309866144896,  139702606498912864,\n",
       "         ...,   10568962872280698,    5875321936927994,\n",
       "            2726165166967636],\n",
       "        [ 833689497159727232,  -92422858982584608,  505254174983172864,\n",
       "         ...,    6769218959354749,    7608329194670330,\n",
       "           24879590087185688],\n",
       "        [1262797889059324160,  432237225607581952,  466413598337988672,\n",
       "         ...,    7764578022427473,   10331577458005160,\n",
       "            7364636890939084]])}"
      ]
     },
     "execution_count": 8,
     "metadata": {},
     "output_type": "execute_result"
    }
   ],
   "source": [
    "im = imageio.imread(filepath + '/' + filename)\n",
    "xdim, ydim = im.shape    # get dimensions\n",
    "mean_im = np.zeros((im.shape))\n",
    "\n",
    "vid_reader = imageio.get_reader(filepath + '/' + filename)\n",
    "mvlength = vid_reader.get_length()\n",
    "\n",
    "# 1. Calculate the average image.\n",
    "for frame in vid_reader:\n",
    "    mean_im = mean_im + frame\n",
    "    \n",
    "mean_im = mean_im / mvlength\n",
    "\n",
    "# 2. calculate moments for each order\n",
    "highest_order = 7\n",
    "m_set = {}\n",
    "calculated_moment_images = []\n",
    "for order in range(1, highest_order + 1):\n",
    "    m_set[order] = np.zeros((im.shape))\n",
    "    for frame in vid_reader:\n",
    "        m_set[order] = m_set[order] + np.power(frame - mean_im, order)\n",
    "        \n",
    "    m_set[order] = np.int64(m_set[order] / mvlength)\n",
    "m_set    "
   ]
  },
  {
   "cell_type": "code",
   "execution_count": 9,
   "metadata": {
    "scrolled": true
   },
   "outputs": [
    {
     "data": {
      "text/plain": [
       "{1: Image([[0, 0, 0, ..., 0, 0, 0],\n",
       "        [0, 0, 0, ..., 0, 0, 0],\n",
       "        [0, 0, 0, ..., 0, 0, 0],\n",
       "        ...,\n",
       "        [0, 0, 0, ..., 0, 0, 0],\n",
       "        [0, 0, 0, ..., 0, 0, 0],\n",
       "        [0, 0, 0, ..., 0, 0, 0]]),\n",
       " 2: Image([[21213, 16718, 19022, ..., 13316, 10310,  9398],\n",
       "        [19050, 19709, 18398, ...,  7570, 10577, 10664],\n",
       "        [17708, 22708, 20651, ...,  9781, 11541, 11051],\n",
       "        ...,\n",
       "        [34483, 41634, 41795, ..., 13214, 12056, 12146],\n",
       "        [47728, 48433, 45340, ..., 15030, 13819, 15979],\n",
       "        [48235, 56810, 51111, ..., 13744, 14302, 10319]]),\n",
       " 3: Image([[ 953057,  936245, 1128340, ..., 1274646,  808787,  441399],\n",
       "        [1301344, 1884027,  101102, ...,  457510,  447120,  524821],\n",
       "        [ 644556, 1224052,  770136, ...,  284251, 1054820,  519248],\n",
       "        ...,\n",
       "        [1767622, 1448126, 1468811, ...,  506213,  405047,  419591],\n",
       "        [4357143, -423133, 3508082, ...,  463567,  661778, 1346977],\n",
       "        [6420504, 2074726, 2988785, ...,  754172,  838597,  563739]]),\n",
       " 4: Image([[ -35094399,  138009564,  539454869, ...,  140573783,   82852403,\n",
       "           -6036143],\n",
       "        [ 351233217,  317576367, -140429088, ...,   33453833,    6741020,\n",
       "           23592555],\n",
       "        [ -26124273,  -53893795,  191134944, ...,    -999662,  119519196,\n",
       "          -18350716],\n",
       "        ...,\n",
       "        [-112064814, -198490221, -368270306, ...,   68711932,   22850172,\n",
       "          -64710048],\n",
       "        [ 240412045,  -57952745, -458028634, ...,   -2940946,    9202127,\n",
       "          117581993],\n",
       "        [1059357542,  348147898, -414870476, ...,  -26714968,   52370055,\n",
       "           54932672]]),\n",
       " 5: Image([[  10788225821,   -8938860437,  131930866964, ...,  -13630617832,\n",
       "            2949436217,   -7499664124],\n",
       "        [  92904568568,   16167664183,    5813516017, ...,   -5099694152,\n",
       "           -5892362126,   -7019951842],\n",
       "        [ -28103978400,  -77038248736,   71148538447, ...,   -3499087126,\n",
       "             792336426,  -10655484752],\n",
       "        ...,\n",
       "        [ -45156879102,   56471679654, -199690549063, ...,    8526359545,\n",
       "            2825243382,  -16567264873],\n",
       "        [-211108093729,  -10489645781, -242689483642, ...,   -9464496348,\n",
       "          -14852850519,  -30960002793],\n",
       "        [-214754116075,  -68473503708, -329169138111, ...,  -26616579400,\n",
       "          -22253888330,    5994772755]]),\n",
       " 6: Image([[   5498272544104,  -22891103808929,    2204786875182, ...,\n",
       "          -20392368307859,   -3301167026207,   -1806035130751],\n",
       "        [   2074000676766,  -36571284972716,    6955188039962, ...,\n",
       "           -2868712683482,   -2538493207995,   -3544170384511],\n",
       "        [  -3277294862565,  -19229451391605,   -8189984985736, ...,\n",
       "             -43315984013,   -9765122464286,   -1364044446212],\n",
       "        ...,\n",
       "        [ -15228522418767,   11617164508406,   52327935167135, ...,\n",
       "           -3785083841270,   -1995127137091,     876681731981],\n",
       "        [-132827952947704, -101094779241612,   38783277112073, ...,\n",
       "           -7567519502625,   -8609843438414,  -23214049697311],\n",
       "        [-501176243220535, -479951932540244, -100686096901516, ...,\n",
       "           -5091062501235,  -14829096488527,   -1504505504740]]),\n",
       " 7: Image([[  -3515083756919128,   -7819465952271748,  -22582030903442672,\n",
       "         ...,   -7968526985245400,   -2102568032486822,\n",
       "            -172377676412781],\n",
       "        [ -19389934682254016,  -24355333655634720,   -1330957955118513,\n",
       "         ...,    -587380355443728,    -522228534220961,\n",
       "            -640459998870570],\n",
       "        [    610331469467480,    4987655798848416,  -13016095540085920,\n",
       "         ...,     184837641567500,   -5062362234743704,\n",
       "             113246585273118],\n",
       "        ...,\n",
       "        [ -13995416296133376,  -37547852176065728,   64498287070639600,\n",
       "         ...,   -2295374916040132,   -1345504904702338,\n",
       "            1402691569422754],\n",
       "        [ -33549873706810880,   21607314673335936,   35346626347450304,\n",
       "         ...,   -1191406928904141,   -1564039368160690,\n",
       "           -6386572176728648],\n",
       "        [-326220924778893568, -214425818264748032,   43310499935266112,\n",
       "         ...,    1193501050180273,   -2532683720077944,\n",
       "           -1321225259377736]])}"
      ]
     },
     "execution_count": 9,
     "metadata": {},
     "output_type": "execute_result"
    }
   ],
   "source": [
    "# 3. calculate cumulants from moments\n",
    "import scipy.special\n",
    "import numpy as np\n",
    "\n",
    "highest_order = 7\n",
    "k_set = {}\n",
    "for order in range(1, highest_order + 1):\n",
    "    k_set[order] = np.int64(m_set[order] - np.sum(np.array([scipy.special.comb(order-1,i)*k_set[order-i]*m_set[i] for i in range(1,order)]),axis=0))\n",
    "    \n",
    "k_set"
   ]
  },
  {
   "cell_type": "code",
   "execution_count": 10,
   "metadata": {},
   "outputs": [
    {
     "data": {
      "text/plain": [
       "<matplotlib.image.AxesImage at 0x11197c278>"
      ]
     },
     "execution_count": 10,
     "metadata": {},
     "output_type": "execute_result"
    },
    {
     "data": {
      "image/png": "[encoded data removed]",
      "text/plain": [
       "<Figure size 432x288 with 1 Axes>"
      ]
     },
     "metadata": {},
     "output_type": "display_data"
    }
   ],
   "source": [
    "%matplotlib inline\n",
    "x=np.array(m_set[2])\n",
    "plt.imshow(x, cmap = 'gray',interpolation='nearest')"
   ]
  },
  {
   "cell_type": "code",
   "execution_count": 11,
   "metadata": {
    "collapsed": true
   },
   "outputs": [],
   "source": [
    "# 5. ldrc\n",
    "\n",
    "# in the function\n",
    "from scipy.interpolate import griddata\n",
    "def ldrc(input_im, mask_im, order, window_size):\n",
    "    xdim_mask, ydim_mask = np.shape(mask_im)\n",
    "    xdim, ydim = np.shape(input_im)\n",
    "    if xdim == xdim_mask and ydim == ydim_mask:\n",
    "        mask = mask_im\n",
    "    else:\n",
    "        # resize mask to the image dimension if not the same dimension (xdim = xdim_mask, ydim = ydim_mask)\n",
    "        mod_xdim = (xdim_mask-1)*order + 1    # new mask x dimemsion\n",
    "        mod_ydim = (ydim_mask-1)*order + 1    # new mask y dimemsion\n",
    "        px = np.arange(0,mod_xdim,order)\n",
    "        py = np.arange(0,mod_ydim,order)\n",
    "    \n",
    "        # create coordinate list for interpolation\n",
    "        coor_lst = [] \n",
    "        for i in px:\n",
    "            for j in py:\n",
    "                coor_lst.append([i,j])\n",
    "        coor_lst = np.array(coor_lst)\n",
    "\n",
    "        orderjx = complex(str(mod_xdim) + 'j')\n",
    "        orderjy = complex(str(mod_ydim) + 'j')\n",
    "        px_new, py_new = np.mgrid[0:mod_xdim-1:orderjx, 0:mod_ydim-1:orderjy]    # new coordinates for interpolated mask\n",
    "\n",
    "        interp_mask = griddata(coor_lst, mask_im.reshape(-1,1), (px_new, py_new), method='cubic')    # interpolation\n",
    "        mask = interp_mask.reshape(px_new.shape)\n",
    "    \n",
    "    # input_im, mask, window_size, xdim, ydim\n",
    "    seq_map = np.zeros((xdim, ydim))\n",
    "    ldrc_im = np.zeros((xdim, ydim))\n",
    "    for i in range(xdim - window_size + 1):\n",
    "        for j in range(ydim - window_size + 1):\n",
    "            window = input_im[i:i+window_size, j:j+window_size]\n",
    "            norm_window = (window - np.min(window)) / (np.max(window) - np.min(window))\n",
    "            # norm_window = window / np.max(window)\n",
    "            ldrc_im[i:i+window_size, j:j+window_size] = ldrc_im[i:i+window_size, j:j+window_size] + norm_window * np.max(mask[i:i+window_size, j:j+window_size])\n",
    "            seq_map[i:i+window_size, j:j+window_size] = seq_map[i:i+window_size, j:j+window_size] + 1\n",
    "        \n",
    "    ldrc_im = ldrc_im / seq_map  \n",
    "    return ldrc_im"
   ]
  },
  {
   "cell_type": "code",
   "execution_count": 12,
   "metadata": {},
   "outputs": [
    {
     "data": {
      "text/plain": [
       "array([[ 37.56813909,   8.81631708,  50.608915  , ..., 142.05370972,\n",
       "         74.27186172,  21.90552345],\n",
       "       [ 70.6925468 ,  42.43343042,   0.43921053, ...,  16.3228598 ,\n",
       "         38.40339738,  45.71075751],\n",
       "       [  7.52059522,  26.75276504,  30.76963799, ...,  29.39606267,\n",
       "        106.41861927,  39.20923958],\n",
       "       ...,\n",
       "       [ 13.22936166,  29.21226012,  27.18606781, ...,   6.11688993,\n",
       "          3.48698899,   1.57214727],\n",
       "       [ 62.42901748,  51.06650812,  39.04886344, ...,   5.78186697,\n",
       "          4.60435191,  11.90695375],\n",
       "       [ 81.57990536,  91.10296254,  55.29448655, ...,   4.10317213,\n",
       "          6.16556139,   2.95860687]])"
      ]
     },
     "execution_count": 12,
     "metadata": {},
     "output_type": "execute_result"
    }
   ],
   "source": [
    "# variable for the function\n",
    "input_im = m_set[6]\n",
    "mask_im = mean_im\n",
    "order = 3    # moments/cumulants order of the image need ldrc processing\n",
    "window_size = 25\n",
    "\n",
    "proldrc_im = ldrc(input_im, mask_im, order, window_size)\n",
    "proldrc_im"
   ]
  },
  {
   "cell_type": "code",
   "execution_count": 13,
   "metadata": {
    "collapsed": true
   },
   "outputs": [],
   "source": [
    "# 4. deconvolution shrinking kernel\n",
    "def fft_pad(psf, out_shape, mode='constant'):\n",
    "    psf_shape = np.shape(psf)\n",
    "    shape_diff = (out_shape[0]-psf_shape[0], out_shape[1]-psf_shape[1])\n",
    "    #out_psf = np.pad(psf, ((0,shape_diff[0]), (0,shape_diff[1])), mode)\n",
    "    out_psf = np.pad(psf, ((shape_diff[0]//2+1,shape_diff[0]//2), (shape_diff[1]//2+1,shape_diff[1]//2)), mode)\n",
    "    return out_psf\n",
    "        \n",
    "# steal from https://github.com/david-hoffman/pyDecon/tree/master/notebooks\n",
    "from skimage.external import tifffile as tif\n",
    "from scipy.io import loadmat, savemat\n",
    "try:\n",
    "    import pyfftw\n",
    "    from pyfftw.interfaces.numpy_fft import (fftshift, ifftshift, fftn, ifftn,\n",
    "                                             rfftn, irfftn)\n",
    "    # Turn on the cache for optimum performance\n",
    "    pyfftw.interfaces.cache.enable()\n",
    "except ImportError:\n",
    "    from numpy.fft import (fftshift, ifftshift, fftn, ifftn,\n",
    "                           rfftn, irfftn)\n",
    "#from dphutils import fft_pad\n",
    "import scipy.signal.signaltools as sig\n",
    "from scipy.signal import fftconvolve\n",
    "from scipy.ndimage import convolve\n",
    "\n",
    "def _prep_img_and_psf(image, psf):\n",
    "    \"\"\"Do basic data checking, convert data to float, normalize psf and make\n",
    "    sure data are positive\"\"\"\n",
    "    assert psf.ndim == image.ndim, (\"image and psf do not have the same number\"\n",
    "                                    \" of dimensions\")\n",
    "    image = image.astype(np.float)\n",
    "    psf = psf.astype(np.float)\n",
    "    # need to make sure both image and PSF are totally positive.\n",
    "    image = _ensure_positive(image)\n",
    "    psf = _ensure_positive(psf)\n",
    "    # normalize the kernel\n",
    "    psf /= psf.sum()\n",
    "    return image, psf\n",
    "\n",
    "def _ensure_positive(data):\n",
    "    \"\"\"Make sure data is positive and has no zeros\n",
    "\n",
    "    For numerical stability\n",
    "\n",
    "    If we realize that mutating data is not a problem\n",
    "    and that changing in place could lead to signifcant\n",
    "    speed ups we can lose the data.copy() line\"\"\"\n",
    "    # make a copy of the data\n",
    "    data = data.copy()\n",
    "    data[data <= 0] = np.finfo(data.dtype).eps\n",
    "    return data\n",
    "\n",
    "def _zero2eps(data):\n",
    "    \"\"\"Make sure data is positive and has no zeros\n",
    "\n",
    "    For numerical stability\n",
    "\n",
    "    If we realize that mutating data is not a problem\n",
    "    and that changing in place could lead to signifcant\n",
    "    speed ups we can lose the data.copy() line\"\"\"\n",
    "    # make a copy of the data\n",
    "    return np.fmax(data, np.finfo(data.dtype).eps)\n",
    "\n",
    "def _rl_core_matlab(image, otf, psf, u_t, **kwargs):\n",
    "    \"\"\"The core update step of the RL algorithm\n",
    "\n",
    "    This is a fast but inaccurate version modeled on matlab's version\n",
    "    One improvement is to pad everything out when the shape isn't\n",
    "    good for fft.\"\"\"\n",
    "    reblur = irfftn(otf * rfftn(u_t, u_t.shape, **kwargs), u_t.shape, **kwargs)\n",
    "    reblur = _ensure_positive(reblur)\n",
    "    im_ratio = image / reblur\n",
    "    estimate = irfftn(np.conj(otf) * rfftn(im_ratio, im_ratio.shape, **kwargs), im_ratio.shape, **kwargs)\n",
    "    # need to figure out a way to pass the psf shape\n",
    "    for i, (s, p) in enumerate(zip(image.shape, psf.shape)):\n",
    "        if s % 2 and not p % 2:\n",
    "            estimate = np.roll(estimate, 1, i)\n",
    "    estimate = _ensure_positive(estimate)\n",
    "    return u_t * estimate\n",
    "\n",
    "def _rl_accelerate(g_tm1, g_tm2, u_t, u_tm1, u_tm2, prediction_order):\n",
    "    \"\"\"Biggs-Andrews Acceleration\n",
    "\n",
    "    .. [2] Biggs, D. S. C.; Andrews, M. Acceleration of Iterative Image\n",
    "    Restoration Algorithms. Applied Optics 1997, 36 (8), 1766.\"\"\"\n",
    "    # TODO: everything here can be wrapped in ne.evaluate\n",
    "    if g_tm2 is not None:\n",
    "        alpha = (g_tm1 * g_tm2).sum() / ((g_tm2**2).sum() + np.finfo(g_tm1.dtype).eps)\n",
    "        alpha = max(min(alpha, 1), 0)\n",
    "    else:\n",
    "        alpha = 0\n",
    "    # print(\"lambda = {:.6f}\".format(alpha))\n",
    "    # if alpha is positive calculate predicted step\n",
    "    if alpha:\n",
    "        # first order correction\n",
    "        h1_t = u_t - u_tm1\n",
    "        if prediction_order > 1:\n",
    "            # second order correction\n",
    "            h2_t = (u_t - 2 * u_tm1 + u_tm2)\n",
    "        else:\n",
    "            h2_t = 0\n",
    "        u_tp1 = u_t + alpha * h1_t + alpha**2 / 2 * h2_t\n",
    "        return u_tp1\n",
    "    else:\n",
    "        return u_t\n",
    "    \n",
    "def richardson_lucy(image, psf, iterations=10, prediction_order=1,\n",
    "                    core_type=\"matlab\", init=\"matlab\", **kwargs):\n",
    "    image, psf = _prep_img_and_psf(image, psf)\n",
    "    # choose core\n",
    "    if core_type == \"matlab\":\n",
    "        core = _rl_core_matlab\n",
    "    else:\n",
    "        raise ValueError(\"{} is not an acceptable core type\".format(core_type))\n",
    "    # set up the proper dict for the right core\n",
    "    if core is _rl_core_matlab:\n",
    "        image, psf = _prep_img_and_psf(image, psf)\n",
    "        if psf.shape != image.shape:\n",
    "            # its been assumed that the background of the psf has already been\n",
    "            # removed and that the psf has already been centered\n",
    "            psf = fft_pad(psf, image.shape, mode='constant')\n",
    "        otf = rfftn(ifftshift(psf))\n",
    "        core_dict = dict(image=image, otf=otf, psf=psf)\n",
    "    else:\n",
    "        raise RuntimeError(\"{} is not a valid core\".format(core))\n",
    "    # initialize variable for iterations\n",
    "    # previous estimate\n",
    "    u_tm1 = u_tm2 = None\n",
    "    if init == \"matlab\":\n",
    "        core_dict[\"u_t\"] = u_t = image\n",
    "    else:\n",
    "        # current estimate, for the initial estimate we use the mean of the\n",
    "        # data this promotes a smooth solution and helps to reduce noise.\n",
    "        core_dict[\"u_t\"] = u_t = np.ones_like(image) * image.mean()\n",
    "    # previous difference\n",
    "    g_tm1 = g_tm2 = None\n",
    "    for i in range(iterations):\n",
    "        # if prediction is requested perform it\n",
    "        if prediction_order:\n",
    "            # need to save prediction as intermediate value\n",
    "            y = _rl_accelerate(g_tm1, g_tm2, u_t, u_tm1, u_tm2,\n",
    "                               prediction_order)\n",
    "        else:\n",
    "            y = u_t\n",
    "        # update estimate and ensure positive\n",
    "        core_dict[\"u_t\"] = _ensure_positive(y)\n",
    "        # call the update function\n",
    "        u_tp1 = core(**core_dict, **kwargs)\n",
    "        # update\n",
    "        # update g's\n",
    "        g_tm2 = g_tm1\n",
    "        # this is where the magic is, we need to compute from previous step\n",
    "        # which may have been augmented by acceleration\n",
    "        g_tm1 = u_tp1 - y\n",
    "        # now move u's along\n",
    "        # Here we don't want to update with accelerated version.\n",
    "        # why not? is this a mistake?\n",
    "        u_t, u_tm1, u_tm2 = u_tp1, u_t, u_tm1\n",
    "        \n",
    "    # return final estimate\n",
    "    return u_t"
   ]
  },
  {
   "cell_type": "code",
   "execution_count": 23,
   "metadata": {
    "collapsed": true
   },
   "outputs": [],
   "source": [
    "# masks.py\n",
    "def gauss2D_mask(shape = (3,3), sigma = 0.5):\n",
    "    \"\"\"\n",
    "    2D gaussian mask - should give the same result as MATLAB's\n",
    "    fspecial('gaussian',[shape],[sigma])\n",
    "    \"\"\"\n",
    "    mdim, ndim = [(pixel-1) / 2 for pixel in shape]\n",
    "    y, x = np.ogrid[-mdim:(mdim + 1), -ndim:(ndim + 1)]\n",
    "    h = np.exp( -(x*x + y*y) / (2*sigma*sigma) )\n",
    "    h[h < np.finfo(h.dtype).eps * h.max()] = 0\n",
    "    sumh = h.sum()\n",
    "    if sumh != 0:\n",
    "        h /= sumh\n",
    "    return h\n",
    "  "
   ]
  },
  {
   "cell_type": "code",
   "execution_count": 15,
   "metadata": {
    "collapsed": true
   },
   "outputs": [],
   "source": [
    "# 3. DeconvSK\n",
    "im = m_set[6]\n",
    "xdim, ydim = im.shape    \n",
    "ext_im = np.append(np.append(im, np.fliplr(im), axis=1), \n",
    "                   np.append(np.flipud(im), np.rot90(im, 2), axis=1), axis=0)\n",
    "\n",
    "# TODO: add notes on how to determine the following values.\n",
    "deconv_psf0 = gauss2D_mask((51, 51), 2)\n",
    "deconv_psf0 = deconv_psf0 / np.max(deconv_psf0)\n",
    "deconv_lambda = 1.5\n",
    "deconv_iter = 20\n",
    "\n",
    "deconv_im = ext_im\n",
    "for iter_num in range(deconv_iter):\n",
    "    alpha = deconv_lambda**(iter_num+1) / (deconv_lambda - 1)\n",
    "    deconv_im = richardson_lucy(deconv_im, deconv_psf0**alpha, 1)    \n",
    "    \n",
    "deconv_im = deconv_im[0:xdim, 0:ydim]"
   ]
  },
  {
   "cell_type": "code",
   "execution_count": 16,
   "metadata": {
    "collapsed": true
   },
   "outputs": [],
   "source": [
    "def deconvsk(est_psf, input_im, deconv_lambda, deconv_iter):\n",
    "    xdim, ydim = np.shape(input_im)\n",
    "    deconv_im = np.append(np.append(input_im, np.fliplr(input_im), axis=1), np.append(np.flipud(input_im), np.rot90(input_im, 2), axis=1), axis=0)\n",
    "    # perform mirror extension to the image in order to surpress ringing artifacts associated with fourier transform due to truncation effect.\n",
    "    psf0 = est_psf / np.max(est_psf)\n",
    "    for iter_num in range(deconv_iter):\n",
    "        alpha = deconv_lambda**(iter_num+1) / (deconv_lambda - 1)\n",
    "        deconv_im = richardson_lucy(deconv_im, psf0**alpha, 1)    \n",
    "    \n",
    "    deconv_im = deconv_im[0:xdim, 0:ydim]\n",
    "    return deconv_im"
   ]
  },
  {
   "cell_type": "code",
   "execution_count": 19,
   "metadata": {},
   "outputs": [
    {
     "data": {
      "text/plain": [
       "Image([[ 146599590365744,   90571191029081,  272101760182672, ...,\n",
       "          59350132439161,   32492013076433,   11742189854429],\n",
       "       [ 223073243872876,  207648824920054,   61715281680522, ...,\n",
       "           9530095449668,   18279365814600,   21174860057859],\n",
       "       [  77229430498215,  153038091926215,  189051584844149, ...,\n",
       "          14653929813782,   45109892676569,   18534218455853],\n",
       "       ...,\n",
       "       [ 573095670561448,  991148087132016,  938150529138420, ...,\n",
       "          47006231879300,   30062304763719,   17725361481711],\n",
       "       [1859973333118466, 1562772890617558, 1248436575875913, ...,\n",
       "          44847745761565,   37261251153506,   84310458061269],\n",
       "       [2360888419163300, 2609975722106216, 1673360879587659, ...,\n",
       "          34032249773485,   47319812368833,   26658044108375]])"
      ]
     },
     "execution_count": 19,
     "metadata": {},
     "output_type": "execute_result"
    }
   ],
   "source": [
    "m_set[6]"
   ]
  },
  {
   "cell_type": "code",
   "execution_count": 20,
   "metadata": {},
   "outputs": [
    {
     "data": {
      "text/plain": [
       "array([[1.09817928e+14, 2.97106258e+13, 4.13892643e+14, ...,\n",
       "        1.20931804e+14, 2.92909317e+13, 1.08265661e+12],\n",
       "       [2.83864675e+14, 2.10582261e+14, 9.73891459e+12, ...,\n",
       "        4.81507539e+11, 7.95319395e+12, 1.17316254e+13],\n",
       "       [1.57801523e+13, 1.31738008e+14, 1.57433651e+14, ...,\n",
       "        4.14012692e+12, 9.04053977e+13, 1.23258084e+13],\n",
       "       ...,\n",
       "       [1.92623948e+13, 2.57972860e+14, 4.34014693e+14, ...,\n",
       "        2.70789818e+13, 8.35840042e+12, 1.01496763e+12],\n",
       "       [1.09100008e+15, 9.36775964e+14, 7.62003153e+14, ...,\n",
       "        2.78460769e+13, 2.33493142e+13, 1.27530967e+14],\n",
       "       [3.90459127e+15, 4.66181098e+15, 1.75614105e+15, ...,\n",
       "        1.68250385e+13, 4.19288371e+13, 9.89123036e+12]])"
      ]
     },
     "execution_count": 20,
     "metadata": {},
     "output_type": "execute_result"
    }
   ],
   "source": [
    "dd=deconvsk(gauss2D_mask((51, 51), 2), m_set[6], deconv_lambda, deconv_iter)\n",
    "dd"
   ]
  },
  {
   "cell_type": "code",
   "execution_count": 27,
   "metadata": {},
   "outputs": [
    {
     "data": {
      "text/plain": [
       "array([[7.43359842e-07, 7.99187146e-06, 6.69151205e-05, 4.36341397e-04,\n",
       "        2.21592446e-03, 8.76415125e-03, 2.69954863e-02, 6.47588052e-02,\n",
       "        1.20985376e-01, 1.76032683e-01, 1.99471163e-01, 1.76032683e-01,\n",
       "        1.20985376e-01, 6.47588052e-02, 2.69954863e-02, 8.76415125e-03,\n",
       "        2.21592446e-03, 4.36341397e-04, 6.69151205e-05, 7.99187146e-06,\n",
       "        7.43359842e-07]])"
      ]
     },
     "execution_count": 27,
     "metadata": {},
     "output_type": "execute_result"
    }
   ],
   "source": [
    "gauss2D_mask((1, 21), 2)"
   ]
  },
  {
   "cell_type": "code",
   "execution_count": null,
   "metadata": {
    "collapsed": true
   },
   "outputs": [],
   "source": [
    "def calculate_moment(im, moment_order, mean):\n",
    "    moment = np.power(im - mean, moment_order)\n",
    "    return moment\n",
    "\n",
    "#def cumulant_from_moment(moment_lst, cumulant_lst, order):\n",
    "    "
   ]
  },
  {
   "cell_type": "code",
   "execution_count": null,
   "metadata": {
    "collapsed": true
   },
   "outputs": [],
   "source": [
    "vid_reader = imageio.get_reader(filepath + '/' + filename)\n",
    "mvlength = vid_reader.get_length()\n",
    "t = vv.imshow(reader.get_next_data(), clim=(0, 255))"
   ]
  },
  {
   "cell_type": "code",
   "execution_count": null,
   "metadata": {
    "collapsed": true
   },
   "outputs": [],
   "source": [
    "def get_dimensions(filepath, filename):\n",
    "    \n",
    "    return xdim, ydim, mvlength\n"
   ]
  }
 ],
 "metadata": {
  "kernelspec": {
   "display_name": "Python 3",
   "language": "python",
   "name": "python3"
  },
  "language_info": {
   "codemirror_mode": {
    "name": "ipython",
    "version": 3
   },
   "file_extension": ".py",
   "mimetype": "text/x-python",
   "name": "python",
   "nbconvert_exporter": "python",
   "pygments_lexer": "ipython3",
   "version": "3.6.8"
  }
 },
 "nbformat": 4,
 "nbformat_minor": 2
}
