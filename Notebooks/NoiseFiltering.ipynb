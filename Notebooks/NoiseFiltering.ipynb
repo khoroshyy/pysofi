{
 "cells": [
  {
   "cell_type": "code",
   "execution_count": 1,
   "metadata": {},
   "outputs": [],
   "source": [
    "import numpy as np\n",
    "import data\n",
    "from functions import (filtering, masks)"
   ]
  },
  {
   "cell_type": "code",
   "execution_count": 2,
   "metadata": {
    "collapsed": true
   },
   "outputs": [],
   "source": [
    "# load 10 videos into dictionary dset, keys are filenames, values are data object - for Demo\n",
    "filenum = 10\n",
    "filepath = 'SampleData'\n",
    "filenames = ['Block' + str(i+1) + '.tif' for i in range(filenum)]\n",
    "dset = {}\n",
    "\n",
    "for filename in filenames:\n",
    "    dset[filename] = data.Data(filepath, filename)"
   ]
  },
  {
   "cell_type": "code",
   "execution_count": 7,
   "metadata": {
    "collapsed": true
   },
   "outputs": [],
   "source": [
    "# calculate M6 on each video [0:9] - for Demo\n",
    "m_set = {}\n",
    "for filename in filenames:\n",
    "    m_set[filename] = dset[filename].moments_images(6)[6]    "
   ]
  },
  {
   "cell_type": "code",
   "execution_count": 8,
   "metadata": {},
   "outputs": [
    {
     "data": {
      "text/plain": [
       "Image([[ 146599590365744,   90571191029081,  272101760182672, ...,\n",
       "          59350132439161,   32492013076433,   11742189854429],\n",
       "       [ 223073243872876,  207648824920054,   61715281680522, ...,\n",
       "           9530095449668,   18279365814600,   21174860057859],\n",
       "       [  77229430498215,  153038091926215,  189051584844149, ...,\n",
       "          14653929813782,   45109892676569,   18534218455853],\n",
       "       ...,\n",
       "       [ 573095670561448,  991148087132016,  938150529138420, ...,\n",
       "          47006231879300,   30062304763719,   17725361481711],\n",
       "       [1859973333118466, 1562772890617558, 1248436575875913, ...,\n",
       "          44847745761565,   37261251153506,   84310458061269],\n",
       "       [2360888419163300, 2609975722106216, 1673360879587659, ...,\n",
       "          34032249773485,   47319812368833,   26658044108375]])"
      ]
     },
     "execution_count": 8,
     "metadata": {},
     "output_type": "execute_result"
    }
   ],
   "source": [
    "m_set[filenames[0]]"
   ]
  },
  {
   "cell_type": "code",
   "execution_count": 9,
   "metadata": {},
   "outputs": [
    {
     "data": {
      "text/plain": [
       "array([[6.35062902e+13, 4.64063106e+13, 1.06788957e+14, ...,\n",
       "        1.60361660e+13, 1.15015093e+13, 1.08286780e+13],\n",
       "       [1.18259012e+14, 1.21103295e+14, 1.51959512e+14, ...,\n",
       "        6.44740247e+12, 8.90343957e+12, 1.07081540e+13],\n",
       "       [5.44317778e+13, 6.91845495e+13, 9.66386714e+13, ...,\n",
       "        7.31817417e+12, 1.51763787e+13, 1.86079791e+13],\n",
       "       ...,\n",
       "       [4.61816367e+14, 7.12101976e+14, 7.51933863e+14, ...,\n",
       "        1.77102182e+13, 1.63993580e+13, 2.18691717e+13],\n",
       "       [7.08194112e+14, 9.95947123e+14, 9.80837660e+14, ...,\n",
       "        3.27902111e+13, 2.01624518e+13, 3.07440015e+13],\n",
       "       [1.17585781e+15, 1.16122366e+15, 1.08206784e+15, ...,\n",
       "        4.91985089e+13, 2.32157570e+13, 1.78659582e+13]])"
      ]
     },
     "execution_count": 9,
     "metadata": {},
     "output_type": "execute_result"
    }
   ],
   "source": [
    "nf = masks.gauss1D_mask(shape = (1,21), sigma = 2)\n",
    "filtering.noise_filter(dset, m_set, nf, filtername = 'noise filter after M6')\n",
    "dset[filenames[0]].filtered"
   ]
  },
  {
   "cell_type": "code",
   "execution_count": 10,
   "metadata": {},
   "outputs": [
    {
     "data": {
      "text/plain": [
       "array([[7.91879711e+13, 6.20580114e+13, 1.30682592e+14, ...,\n",
       "        1.69021031e+13, 1.28685530e+13, 1.36631781e+13],\n",
       "       [1.50277851e+14, 1.50978428e+14, 2.18156632e+14, ...,\n",
       "        8.17838662e+12, 1.08966292e+13, 1.30960081e+13],\n",
       "       [7.40439600e+13, 8.83395303e+13, 1.28500783e+14, ...,\n",
       "        9.46669929e+12, 1.61867425e+13, 2.35603296e+13],\n",
       "       ...,\n",
       "       [6.53789048e+14, 9.76909820e+14, 9.93978455e+14, ...,\n",
       "        2.07670370e+13, 2.25981915e+13, 3.47249983e+13],\n",
       "       [9.39768184e+14, 1.24241431e+15, 1.28203711e+15, ...,\n",
       "        4.36422087e+13, 2.47892542e+13, 3.63119445e+13],\n",
       "       [1.47397130e+15, 1.41541316e+15, 1.45069774e+15, ...,\n",
       "        8.26787959e+13, 2.75154972e+13, 2.26037341e+13]])"
      ]
     },
     "execution_count": 10,
     "metadata": {},
     "output_type": "execute_result"
    }
   ],
   "source": [
    "dset[filenames[1]].filtered"
   ]
  },
  {
   "cell_type": "code",
   "execution_count": null,
   "metadata": {
    "collapsed": true
   },
   "outputs": [],
   "source": [
    "# noise filtering\n",
    "# TODO: notes on how to determine the filter type / size.\n",
    "get_series = lambda i,j: [m_set[filename][i,j] for filename in filenames]\n",
    "noise_filter = gauss1D_mask(shape = (1,21), sigma = 2)\n",
    "xdim, ydim = np.shape(m_set[filenames[0]])\n",
    "m_length = len(filenames)\n",
    "# all the filtered image will be stored in a 3-dimensional (l,x,y) array m_filtered, and can be convreted to a dictionary later.\n",
    "m_filtered = np.zeros((m_length, xdim, ydim))\n",
    "\n",
    "for i in range(xdim):\n",
    "    for j in range(ydim):\n",
    "        time_series = get_series(i,j)\n",
    "        m_filtered[:,i,j] = filter1D_same(time_series, noise_filter)\n",
    "        # filtered_series = filter1D_same(time_series, noise_filter)\n",
    "        # m_filtered[:,i,j] = filtered_series\n",
    "\n",
    "# Add filtered images back to data class as a feature\n",
    "for k in range(m_length):\n",
    "    dset[filenames[k]].add_filtered(m_filtered[k], 'noise filter after M6')    "
   ]
  },
  {
   "cell_type": "code",
   "execution_count": null,
   "metadata": {
    "collapsed": true
   },
   "outputs": [],
   "source": [
    "nf = gauss1D_mask(shape = (1,21), sigma = 2)\n",
    "def noise_filter(data_set, noise_filter, filtername = 'noise filter after M6', filenames = None, return_option = False):\n",
    "    if filenames is None:\n",
    "        filenames =[*data_set]\n",
    "    get_series = lambda i,j: [m_set[filename][i,j] for filename in filenames]\n",
    "    xdim, ydim = np.shape(m_set[filenames[0]])\n",
    "    m_length = len(filenames)\n",
    "    m_filtered = np.zeros((m_length, xdim, ydim))\n",
    "    for i in range(xdim):\n",
    "        for j in range(ydim):\n",
    "            time_series = get_series(i,j)\n",
    "            m_filtered[:,i,j] = filter1D_same(time_series, noise_filter)\n",
    "    for k in range(m_length):\n",
    "        dset[filenames[k]].add_filtered(m_filtered[k], filtername)\n",
    "        \n",
    "    if return_option == True:\n",
    "        return m_filtered"
   ]
  },
  {
   "cell_type": "code",
   "execution_count": null,
   "metadata": {
    "collapsed": true,
    "scrolled": true
   },
   "outputs": [],
   "source": [
    "noise_filter(m_set, nf,return_option=True)"
   ]
  },
  {
   "cell_type": "code",
   "execution_count": null,
   "metadata": {
    "collapsed": true
   },
   "outputs": [],
   "source": [
    "# TODO: figure out how to import masks under the same function folder\n",
    "def gauss2D_mask(shape = (3,3), sigma = 0.5):\n",
    "    \"\"\"\n",
    "    2D gaussian mask - should give the same result as MATLAB's\n",
    "    fspecial('gaussian',[shape],[sigma])\n",
    "    \"\"\"\n",
    "    mdim, ndim = [(pixel-1) / 2 for pixel in shape]\n",
    "    y, x = np.ogrid[-mdim:(mdim + 1), -ndim:(ndim + 1)]\n",
    "    h = np.exp( -(x*x + y*y) / (2*sigma*sigma) )\n",
    "    h[h < np.finfo(h.dtype).eps * h.max()] = 0\n",
    "    sumh = h.sum()\n",
    "    if sumh != 0:\n",
    "        h /= sumh\n",
    "    return h\n",
    "\n",
    "def gauss1D_mask(shape = (1,3), sigma = 0.5):\n",
    "    return gauss2D_mask(shape, sigma)[0]"
   ]
  },
  {
   "cell_type": "code",
   "execution_count": null,
   "metadata": {
    "collapsed": true
   },
   "outputs": [],
   "source": [
    "def filter1D_same(time_series, noise_filter):\n",
    "    '''\n",
    "    Filter original time_series with noise_filter, and return the filtered_series with the same \n",
    "    length as the original sereis.\n",
    "    Compared to MATLAB results, when the length of the filter and frame number are both even, \n",
    "    the filtered result would shift to left by one number. In other cases, results are the same.\n",
    "    '''\n",
    "    filtered_series = np.convolve(time_series, noise_filter, 'full')\n",
    "    filtered_center = len(filtered_series)//2\n",
    "    original_center = len(time_series)/2\n",
    "    filtered_series = filtered_series[np.int(filtered_center - np.floor(original_center)):np.int(filtered_center + np.ceil(original_center))]\n",
    "    return filtered_series"
   ]
  }
 ],
 "metadata": {
  "kernelspec": {
   "display_name": "Python 3",
   "language": "python",
   "name": "python3"
  },
  "language_info": {
   "codemirror_mode": {
    "name": "ipython",
    "version": 3
   },
   "file_extension": ".py",
   "mimetype": "text/x-python",
   "name": "python",
   "nbconvert_exporter": "python",
   "pygments_lexer": "ipython3",
   "version": "3.6.8"
  }
 },
 "nbformat": 4,
 "nbformat_minor": 2
}
